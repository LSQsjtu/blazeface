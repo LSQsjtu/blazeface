{
 "cells": [
  {
   "cell_type": "markdown",
   "metadata": {},
   "source": [
    "### run tflite model"
   ]
  },
  {
   "cell_type": "code",
   "execution_count": 1,
   "metadata": {},
   "outputs": [
    {
     "name": "stdout",
     "output_type": "stream",
     "text": [
      "The history saving thread hit an unexpected error (DatabaseError('database disk image is malformed')).History will not be written to the database.\n"
     ]
    }
   ],
   "source": [
    "import numpy as np\n",
    "import tflite_runtime.interpreter as tflite"
   ]
  },
  {
   "cell_type": "code",
   "execution_count": 2,
   "metadata": {},
   "outputs": [],
   "source": [
    "interpreter = tflite.Interpreter(model_path='./mediapipe/mediapipe/models/iris_landmark.tflite')\n",
    "interpreter.allocate_tensors()"
   ]
  },
  {
   "cell_type": "code",
   "execution_count": 3,
   "metadata": {},
   "outputs": [],
   "source": [
    "# Get input and output tensors.\n",
    "input_details = interpreter.get_input_details()\n",
    "output_details = interpreter.get_output_details()"
   ]
  },
  {
   "cell_type": "code",
   "execution_count": 4,
   "metadata": {},
   "outputs": [],
   "source": [
    "# Test model on random input data.\n",
    "input_shape = input_details[0]['shape']\n",
    "input_data = np.array(np.random.random_sample(input_shape), dtype=np.float32)\n",
    "interpreter.set_tensor(input_details[0]['index'], input_data)\n",
    "\n",
    "interpreter.invoke()"
   ]
  },
  {
   "cell_type": "code",
   "execution_count": 5,
   "metadata": {},
   "outputs": [
    {
     "name": "stdout",
     "output_type": "stream",
     "text": [
      "[[ 2.4772800e+01  3.2634815e+01  3.0591121e+00  2.6509365e+01\n",
      "   3.3795406e+01  2.0377262e+00  2.8289812e+01  3.4344658e+01\n",
      "   1.1259704e+00  3.0564209e+01  3.4939148e+01  1.7352244e-01\n",
      "   3.4007774e+01  3.5211723e+01 -5.4298389e-01  3.7131142e+01\n",
      "   3.5041729e+01 -5.1357388e-01  3.9906120e+01  3.4397423e+01\n",
      "   6.9254294e-02  4.1777882e+01  3.3883343e+01  9.3107116e-01\n",
      "   4.2555477e+01  3.3323540e+01  1.0172620e+00  2.5938850e+01\n",
      "   3.1780590e+01  1.9235708e+00  2.7292944e+01  3.0728157e+01\n",
      "   9.4438386e-01  2.9571121e+01  2.9539345e+01  1.9962814e-01\n",
      "   3.3215664e+01  2.8915670e+01 -2.6353872e-01  3.6606815e+01\n",
      "   2.9426142e+01 -3.1586322e-01  3.9764339e+01  3.0839828e+01\n",
      "   1.7279708e-01  4.1744858e+01  3.2431900e+01  6.7067647e-01\n",
      "   2.3264044e+01  3.2929825e+01  3.4130440e+00  2.4708122e+01\n",
      "   3.5364613e+01  2.1688499e+00  2.6688223e+01  3.6618134e+01\n",
      "   8.6227125e-01  3.0052900e+01  3.7324081e+01 -4.2104229e-01\n",
      "   3.3742840e+01  3.7331669e+01 -1.1370069e+00  3.7302036e+01\n",
      "   3.6870567e+01 -1.3120012e+00  4.0392494e+01  3.5911049e+01\n",
      "  -5.8627754e-01  4.2475819e+01  3.4684402e+01  3.8483545e-02\n",
      "   4.3611580e+01  3.3224037e+01  6.3955766e-01  2.3284986e+01\n",
      "   3.0698133e+01  1.9316567e+00  2.5064363e+01  2.8754110e+01\n",
      "   4.5974910e-01  2.7781713e+01  2.6834873e+01 -4.6517450e-01\n",
      "   3.1748768e+01  2.5802174e+01 -1.1359626e+00  3.5936001e+01\n",
      "   2.6251152e+01 -9.8294216e-01  3.9582661e+01  2.7986525e+01\n",
      "  -2.7590781e-01  4.2789253e+01  3.0917250e+01  4.2388916e-01\n",
      "   2.1050375e+01  3.4614342e+01  4.4819102e+00  2.2043877e+01\n",
      "   3.8405945e+01  3.2527912e+00  2.4074884e+01  3.9682915e+01\n",
      "   1.5051701e+00  2.8076485e+01  4.0613594e+01 -3.3856568e-01\n",
      "   3.3046326e+01  4.0371262e+01 -1.3421986e+00  3.7757641e+01\n",
      "   3.9341076e+01 -1.6135179e+00  4.1255219e+01  3.7849693e+01\n",
      "  -1.2841704e+00  4.3572586e+01  3.6401474e+01 -1.3181099e+00\n",
      "   4.5467987e+01  3.4079830e+01 -1.1503242e+00  2.1406294e+01\n",
      "   3.0911776e+01  2.7570431e+00  2.3167486e+01  2.7560350e+01\n",
      "   6.5111840e-01  2.6608870e+01  2.5186457e+01 -7.5330114e-01\n",
      "   3.0860243e+01  2.3702517e+01 -1.4591665e+00  3.5920021e+01\n",
      "   2.3914007e+01 -1.6913440e+00  4.1773849e+01  2.6672911e+01\n",
      "  -1.1961554e+00  4.4928066e+01  3.0289877e+01 -5.6796092e-01\n",
      "   1.8114042e+01  3.6030449e+01  6.3146152e+00  1.8815193e+01\n",
      "   3.0836964e+01  4.1780667e+00  2.0526741e+01  2.5969698e+01\n",
      "   1.5138606e+00  2.4460672e+01  2.2810205e+01 -3.8022754e-01\n",
      "   2.9455177e+01  2.0480768e+01 -2.2289310e+00  3.5958942e+01\n",
      "   2.0248854e+01 -3.6154532e+00  1.4853384e+01  3.7287132e+01\n",
      "   8.8731766e+00  1.8400171e+01  4.0997597e+01  4.2590227e+00\n",
      "   2.1047644e+01  4.3202072e+01  1.2687743e+00  2.5874529e+01\n",
      "   4.4244560e+01 -1.5473020e+00  3.2797592e+01  4.3312031e+01\n",
      "  -2.3664722e+00  3.7714237e+01  4.1734692e+01 -2.6027198e+00\n",
      "   4.1755070e+01  3.9847569e+01 -2.8778925e+00  4.4613365e+01\n",
      "   3.7696865e+01 -2.9506440e+00  4.6828548e+01  3.4598282e+01\n",
      "  -3.3025188e+00  1.5967083e+01  3.0670788e+01  6.9774518e+00\n",
      "   1.8366074e+01  2.5198214e+01  4.3066993e+00  2.2695246e+01\n",
      "   2.0850067e+01  1.0648398e+00  2.8478209e+01  1.8158602e+01\n",
      "  -1.3358727e+00  3.5525185e+01  1.7659468e+01 -3.7583992e+00\n",
      "   4.4174927e+01  1.8698755e+01 -4.8685408e+00  4.5037422e+01\n",
      "   2.3070499e+01 -4.3594151e+00  4.8276943e+01  2.9769461e+01\n",
      "  -4.1697679e+00]] [[42.363148  31.865845  -1.4146941 45.394794  31.112848  -1.4085145\n",
      "  41.991978  29.11905   -1.499057  39.396305  32.721188  -1.4066317\n",
      "  42.904713  34.65703   -1.4933548]]\n"
     ]
    }
   ],
   "source": [
    "# The function `get_tensor()` returns a copy of the tensor data.\n",
    "# Use `tensor()` in order to get a pointer to the tensor.\n",
    "output_data  = interpreter.get_tensor(output_details[0]['index'])\n",
    "output_score  = interpreter.get_tensor(output_details[1]['index'])\n",
    "print(output_data, output_score)"
   ]
  },
  {
   "cell_type": "code",
   "execution_count": 6,
   "metadata": {},
   "outputs": [
    {
     "name": "stdout",
     "output_type": "stream",
     "text": [
      "15.3 ms ± 125 µs per loop (mean ± std. dev. of 7 runs, 100 loops each)\n"
     ]
    }
   ],
   "source": [
    "%%timeit\n",
    "interpreter.set_tensor(input_details[0]['index'], input_data)\n",
    "interpreter.invoke()"
   ]
  },
  {
   "cell_type": "code",
   "execution_count": 7,
   "metadata": {},
   "outputs": [],
   "source": [
    "import torch"
   ]
  },
  {
   "cell_type": "code",
   "execution_count": 8,
   "metadata": {},
   "outputs": [
    {
     "name": "stdout",
     "output_type": "stream",
     "text": [
      "PyTorch version: 1.4.0\n",
      "CUDA version: 10.0\n",
      "cuDNN version: 7603\n"
     ]
    }
   ],
   "source": [
    "print(\"PyTorch version:\", torch.__version__)\n",
    "print(\"CUDA version:\", torch.version.cuda)\n",
    "print(\"cuDNN version:\", torch.backends.cudnn.version())"
   ]
  },
  {
   "cell_type": "code",
   "execution_count": 9,
   "metadata": {},
   "outputs": [],
   "source": [
    "# device = torch.device(\"cuda:0\" if torch.cuda.is_available() else \"cpu\")\n",
    "device = torch.device(\"cpu\")\n",
    "from blazeiris import Blazeiris\n",
    "\n",
    "net = Blazeiris().to(device)\n",
    "net.load_weights(\"blazeiris.pth\")"
   ]
  },
  {
   "cell_type": "code",
   "execution_count": 10,
   "metadata": {},
   "outputs": [],
   "source": [
    "input_t = torch.from_numpy(input_data).permute((0, 3, 1, 2)).to(device)"
   ]
  },
  {
   "cell_type": "code",
   "execution_count": 11,
   "metadata": {},
   "outputs": [],
   "source": [
    "with torch.no_grad():\n",
    "    out = net(input_t)"
   ]
  },
  {
   "cell_type": "code",
   "execution_count": 12,
   "metadata": {},
   "outputs": [
    {
     "name": "stdout",
     "output_type": "stream",
     "text": [
      "[[ 2.4772800e+01  3.2634815e+01  3.0591121e+00  2.6509365e+01\n",
      "   3.3795406e+01  2.0377262e+00  2.8289812e+01  3.4344658e+01\n",
      "   1.1259704e+00  3.0564209e+01  3.4939148e+01  1.7352244e-01\n",
      "   3.4007774e+01  3.5211723e+01 -5.4298389e-01  3.7131142e+01\n",
      "   3.5041729e+01 -5.1357388e-01  3.9906120e+01  3.4397423e+01\n",
      "   6.9254294e-02  4.1777882e+01  3.3883343e+01  9.3107116e-01\n",
      "   4.2555477e+01  3.3323540e+01  1.0172620e+00  2.5938850e+01\n",
      "   3.1780590e+01  1.9235708e+00  2.7292944e+01  3.0728157e+01\n",
      "   9.4438386e-01  2.9571121e+01  2.9539345e+01  1.9962814e-01\n",
      "   3.3215664e+01  2.8915670e+01 -2.6353872e-01  3.6606815e+01\n",
      "   2.9426142e+01 -3.1586322e-01  3.9764339e+01  3.0839828e+01\n",
      "   1.7279708e-01  4.1744858e+01  3.2431900e+01  6.7067647e-01\n",
      "   2.3264044e+01  3.2929825e+01  3.4130440e+00  2.4708122e+01\n",
      "   3.5364613e+01  2.1688499e+00  2.6688223e+01  3.6618134e+01\n",
      "   8.6227125e-01  3.0052900e+01  3.7324081e+01 -4.2104229e-01\n",
      "   3.3742840e+01  3.7331669e+01 -1.1370069e+00  3.7302036e+01\n",
      "   3.6870567e+01 -1.3120012e+00  4.0392494e+01  3.5911049e+01\n",
      "  -5.8627754e-01  4.2475819e+01  3.4684402e+01  3.8483545e-02\n",
      "   4.3611580e+01  3.3224037e+01  6.3955766e-01  2.3284986e+01\n",
      "   3.0698133e+01  1.9316567e+00  2.5064363e+01  2.8754110e+01\n",
      "   4.5974910e-01  2.7781713e+01  2.6834873e+01 -4.6517450e-01\n",
      "   3.1748768e+01  2.5802174e+01 -1.1359626e+00  3.5936001e+01\n",
      "   2.6251152e+01 -9.8294216e-01  3.9582661e+01  2.7986525e+01\n",
      "  -2.7590781e-01  4.2789253e+01  3.0917250e+01  4.2388916e-01\n",
      "   2.1050375e+01  3.4614342e+01  4.4819102e+00  2.2043877e+01\n",
      "   3.8405945e+01  3.2527912e+00  2.4074884e+01  3.9682915e+01\n",
      "   1.5051701e+00  2.8076485e+01  4.0613594e+01 -3.3856568e-01\n",
      "   3.3046326e+01  4.0371262e+01 -1.3421986e+00  3.7757641e+01\n",
      "   3.9341076e+01 -1.6135179e+00  4.1255219e+01  3.7849693e+01\n",
      "  -1.2841704e+00  4.3572586e+01  3.6401474e+01 -1.3181099e+00\n",
      "   4.5467987e+01  3.4079830e+01 -1.1503242e+00  2.1406294e+01\n",
      "   3.0911776e+01  2.7570431e+00  2.3167486e+01  2.7560350e+01\n",
      "   6.5111840e-01  2.6608870e+01  2.5186457e+01 -7.5330114e-01\n",
      "   3.0860243e+01  2.3702517e+01 -1.4591665e+00  3.5920021e+01\n",
      "   2.3914007e+01 -1.6913440e+00  4.1773849e+01  2.6672911e+01\n",
      "  -1.1961554e+00  4.4928066e+01  3.0289877e+01 -5.6796092e-01\n",
      "   1.8114042e+01  3.6030449e+01  6.3146152e+00  1.8815193e+01\n",
      "   3.0836964e+01  4.1780667e+00  2.0526741e+01  2.5969698e+01\n",
      "   1.5138606e+00  2.4460672e+01  2.2810205e+01 -3.8022754e-01\n",
      "   2.9455177e+01  2.0480768e+01 -2.2289310e+00  3.5958942e+01\n",
      "   2.0248854e+01 -3.6154532e+00  1.4853384e+01  3.7287132e+01\n",
      "   8.8731766e+00  1.8400171e+01  4.0997597e+01  4.2590227e+00\n",
      "   2.1047644e+01  4.3202072e+01  1.2687743e+00  2.5874529e+01\n",
      "   4.4244560e+01 -1.5473020e+00  3.2797592e+01  4.3312031e+01\n",
      "  -2.3664722e+00  3.7714237e+01  4.1734692e+01 -2.6027198e+00\n",
      "   4.1755070e+01  3.9847569e+01 -2.8778925e+00  4.4613365e+01\n",
      "   3.7696865e+01 -2.9506440e+00  4.6828548e+01  3.4598282e+01\n",
      "  -3.3025188e+00  1.5967083e+01  3.0670788e+01  6.9774518e+00\n",
      "   1.8366074e+01  2.5198214e+01  4.3066993e+00  2.2695246e+01\n",
      "   2.0850067e+01  1.0648398e+00  2.8478209e+01  1.8158602e+01\n",
      "  -1.3358727e+00  3.5525185e+01  1.7659468e+01 -3.7583992e+00\n",
      "   4.4174927e+01  1.8698755e+01 -4.8685408e+00  4.5037422e+01\n",
      "   2.3070499e+01 -4.3594151e+00  4.8276943e+01  2.9769461e+01\n",
      "  -4.1697679e+00]] [[42.363148  31.865845  -1.4146941 45.394794  31.112848  -1.4085145\n",
      "  41.991978  29.11905   -1.499057  39.396305  32.721188  -1.4066317\n",
      "  42.904713  34.65703   -1.4933548]]\n",
      "(1, 64, 64, 3)\n"
     ]
    }
   ],
   "source": [
    "print(output_data, output_score)\n",
    "print(input_data.shape)"
   ]
  },
  {
   "cell_type": "code",
   "execution_count": 13,
   "metadata": {},
   "outputs": [
    {
     "data": {
      "text/plain": [
       "[tensor([[26.1087, 36.4227,  2.4027, 28.4528, 37.6359,  1.4535, 30.9113, 38.1751,\n",
       "           0.6211, 33.8239, 38.6448, -0.1809, 37.8309, 38.4395, -0.6006, 41.2979,\n",
       "          37.8271, -0.1313, 44.1604, 36.9379,  0.8731, 45.9743, 36.3385,  1.9711,\n",
       "          46.7454, 35.7726,  2.2684, 27.4005, 35.3001,  1.2196, 28.9052, 34.0895,\n",
       "           0.2228, 31.4572, 32.5984, -0.4671, 35.5734, 31.6215, -0.6290, 39.3722,\n",
       "          31.9294, -0.2797, 43.0042, 33.2386,  0.7206, 45.6233, 34.8809,  1.5849,\n",
       "          24.2086, 36.7098,  2.7424, 26.4296, 39.2925,  1.5680, 29.4897, 40.6731,\n",
       "           0.3389, 33.8289, 41.2751, -0.7485, 38.2736, 40.7828, -1.1333, 42.3695,\n",
       "          39.8489, -0.7952, 45.4435, 38.5626,  0.5026, 47.3979, 37.1564,  1.3492,\n",
       "          48.3165, 35.4816,  2.1459, 23.7409, 34.1745,  0.9754, 25.4688, 31.6668,\n",
       "          -0.5503, 28.4322, 29.2819, -1.4803, 33.2907, 27.6995, -1.8053, 38.5190,\n",
       "          27.9187, -1.0301, 42.8602, 29.6453,  0.4093, 46.9754, 32.8198,  1.5281,\n",
       "          21.8079, 38.8567,  3.8110, 24.0640, 42.9514,  2.8001, 27.1991, 44.2273,\n",
       "           1.0968, 32.4777, 45.0829, -0.4786, 38.5359, 44.3193, -0.9635, 43.7732,\n",
       "          42.6305, -0.6322, 47.3968, 40.7017,  0.1438, 49.7165, 38.9364,  0.2775,\n",
       "          51.3550, 36.2176,  0.4635, 21.3868, 34.7697,  1.5034, 22.5683, 30.8718,\n",
       "          -0.9461, 26.3031, 27.7946, -2.2780, 31.6295, 25.7096, -2.5930, 38.0034,\n",
       "          25.5330, -2.0586, 45.3399, 28.0521, -0.6364, 49.5732, 31.9603,  0.8329,\n",
       "          18.5670, 40.7632,  5.8330, 18.0439, 34.9960,  2.7867, 18.7267, 29.6360,\n",
       "          -0.5538, 22.9639, 25.5789, -2.7186, 29.0624, 22.5366, -4.3146, 37.1919,\n",
       "          21.7049, -4.9747, 14.6690, 42.3338,  8.7060, 20.3670, 46.3932,  3.9224,\n",
       "          24.4870, 48.7107,  0.8790, 30.9377, 49.4587, -1.6179, 39.2320, 47.7735,\n",
       "          -1.8473, 44.8720, 45.5087, -1.5328, 49.0294, 43.0859, -1.4769, 51.8830,\n",
       "          40.4906, -1.4419, 53.5297, 36.8381, -1.7863, 14.3066, 34.8914,  5.9150,\n",
       "          15.5982, 28.5941,  2.2283, 19.8980, 23.4580, -1.5377, 26.8859, 19.8928,\n",
       "          -3.8883, 35.8534, 18.6859, -5.7856, 46.5837, 19.0899, -6.0295, 48.9082,\n",
       "          24.1008, -4.6350, 54.3715, 31.3425, -3.2293]]),\n",
       " tensor([[36.0749, 33.7054, -2.3237, 39.7578, 33.2179, -2.3225, 35.5569, 30.1943,\n",
       "          -2.3687, 32.3267, 34.2725, -2.3136, 36.7267, 37.2070, -2.4048]])]"
      ]
     },
     "execution_count": 13,
     "metadata": {},
     "output_type": "execute_result"
    }
   ],
   "source": [
    "out"
   ]
  },
  {
   "cell_type": "code",
   "execution_count": 26,
   "metadata": {},
   "outputs": [],
   "source": [
    "import cv2\n",
    "img = cv2.imread(\"eyesample2.jpg\")\n",
    "img = cv2.cvtColor(img, cv2.COLOR_BGR2RGB)\n",
    "\n",
    "img_ori = cv2.resize(img, (64,64))"
   ]
  },
  {
   "cell_type": "code",
   "execution_count": 27,
   "metadata": {},
   "outputs": [
    {
     "data": {
      "text/plain": [
       "(1, 64, 64, 3)"
      ]
     },
     "execution_count": 27,
     "metadata": {},
     "output_type": "execute_result"
    }
   ],
   "source": [
    "img_ori = img_ori[np.newaxis, ...]\n",
    "input_data = img_ori.astype('float32')\n",
    "input_data = input_data / 127.5 - 1.0\n",
    "input_data.shape"
   ]
  },
  {
   "cell_type": "code",
   "execution_count": 28,
   "metadata": {},
   "outputs": [
    {
     "data": {
      "text/plain": [
       "-0.96862745"
      ]
     },
     "execution_count": 28,
     "metadata": {},
     "output_type": "execute_result"
    }
   ],
   "source": [
    "input_data.min()"
   ]
  },
  {
   "cell_type": "code",
   "execution_count": 29,
   "metadata": {},
   "outputs": [
    {
     "name": "stdout",
     "output_type": "stream",
     "text": [
      "[[ 20.199902    36.47366      5.242034    22.561987    38.73013\n",
      "    3.6028562   25.132092    40.149277     2.2678447   28.715712\n",
      "   41.090824     0.6922799   33.69872     41.16095     -0.36431423\n",
      "   38.48287     40.33644     -0.3428996   43.047825    39.184006\n",
      "    0.5900787   46.11066     38.70252      1.6962507   47.45645\n",
      "   38.201767     1.7142663   21.412014    35.236538     2.6694076\n",
      "   23.034483    33.794716     0.6145719   25.958042    31.94916\n",
      "   -1.2692604   30.855669    30.696815    -2.5492582   35.99106\n",
      "   30.924528    -2.4692311   41.364822    33.062138    -1.2275732\n",
      "   45.52043     36.180912     0.43962747  17.972286    36.34012\n",
      "    6.3076425   20.887411    40.513275     4.75683     23.93947\n",
      "   43.16878      2.7714238   28.854635    44.242043     0.6711279\n",
      "   34.18095     44.295475    -0.54226583  39.74244     43.43052\n",
      "   -0.6440459   44.445457    41.803673     0.31874764  47.596535\n",
      "   40.27668      0.9315882   49.421833    38.306183     1.2309594\n",
      "   17.321266    31.722366     2.5271883   19.416138    28.388796\n",
      "   -0.89581335  23.302576    25.553698    -3.1886892   29.504374\n",
      "   24.229836    -4.91227     36.39195     25.069677    -4.583057\n",
      "   42.34525     28.09825     -2.4305367   47.613575    33.660297\n",
      "   -0.58157265  15.337415    37.571545     8.56461     17.67247\n",
      "   44.165577     8.025561    20.807026    47.148357     5.6148095\n",
      "   26.870417    48.938328     2.8171716   34.077232    48.73482\n",
      "    1.0392959   40.78647     47.028275     0.19671176  46.015358\n",
      "   44.91057      0.21745515  49.681633    42.927708    -0.24706584\n",
      "   52.448658    39.486042    -1.4451689   15.023788    31.015192\n",
      "    3.786362    16.403698    25.775127    -1.1964722   20.917496\n",
      "   22.761831    -4.5983567   27.733343    21.430614    -6.7303424\n",
      "   36.253735    22.392231    -7.0164905   45.99782     26.858847\n",
      "   -5.306665    50.99433     32.86731     -2.4288764   11.422127\n",
      "   38.841198    12.6194935   11.354238    29.733648     5.7656884\n",
      "   12.101909    21.766113    -0.55392176  16.95107     17.22708\n",
      "   -5.8884735   24.76133     15.4644      -9.947623    35.735043\n",
      "   16.867094   -12.54106      7.13734     39.51844     17.882843\n",
      "   12.789102    48.284332    11.407034    16.84548     53.145645\n",
      "    7.146992    24.073092    55.581852     2.8284144   34.36146\n",
      "   54.361744     1.0186354   41.744743    51.566994    -0.07221181\n",
      "   47.17167     48.644615    -1.622657    51.430016    45.441193\n",
      "   -2.7494574   54.488834    40.602016    -4.7280736    7.653746\n",
      "   27.999468    10.943781     8.788918    18.608435     3.3621166\n",
      "   13.835057    12.629006    -4.3422585   22.626106    10.185792\n",
      "  -10.330168    34.707317    11.591661   -14.710921    48.605747\n",
      "   14.048594   -16.297903    50.47919     22.20946    -12.675112\n",
      "   56.196465    32.516407    -8.959011  ]] [[33.195175  35.33694    5.620748  39.355587  34.82354    5.665594\n",
      "  32.659348  29.344168   5.6538916 26.830551  35.89463    5.6409616\n",
      "  33.755135  41.347908   5.639093 ]]\n"
     ]
    }
   ],
   "source": [
    "interpreter = tflite.Interpreter(model_path='./mediapipe/mediapipe/models/iris_landmark.tflite')\n",
    "interpreter.allocate_tensors()\n",
    "\n",
    "# Get input and output tensors.\n",
    "input_details = interpreter.get_input_details()\n",
    "output_details = interpreter.get_output_details()\n",
    "interpreter.set_tensor(input_details[0]['index'], input_data)\n",
    "\n",
    "interpreter.invoke()\n",
    "output_data = interpreter.get_tensor(output_details[0]['index'])\n",
    "output_score = interpreter.get_tensor(output_details[1]['index'])\n",
    "print(output_data, output_score)"
   ]
  },
  {
   "cell_type": "code",
   "execution_count": 30,
   "metadata": {},
   "outputs": [],
   "source": [
    "input_t = torch.from_numpy(input_data).permute((0, 3, 1, 2)).to(device)\n",
    "with torch.no_grad():\n",
    "    out = net(input_t)"
   ]
  },
  {
   "cell_type": "code",
   "execution_count": 31,
   "metadata": {},
   "outputs": [
    {
     "name": "stdout",
     "output_type": "stream",
     "text": [
      "[tensor([[ 2.0820e+01,  3.7244e+01,  5.6755e+00,  2.3140e+01,  3.9564e+01,\n",
      "          3.9632e+00,  2.5701e+01,  4.1089e+01,  2.5573e+00,  2.9314e+01,\n",
      "          4.2182e+01,  8.6688e-01,  3.4365e+01,  4.2456e+01, -3.6106e-01,\n",
      "          3.9355e+01,  4.1711e+01, -5.1290e-01,  4.4206e+01,  4.0503e+01,\n",
      "          2.9901e-01,  4.7415e+01,  3.9909e+01,  1.3267e+00,  4.8786e+01,\n",
      "          3.9301e+01,  1.3173e+00,  2.2026e+01,  3.5974e+01,  2.9999e+00,\n",
      "          2.3644e+01,  3.4493e+01,  8.6171e-01,  2.6593e+01,  3.2581e+01,\n",
      "         -1.1405e+00,  3.1629e+01,  3.1330e+01, -2.5834e+00,  3.6950e+01,\n",
      "          3.1610e+01, -2.6439e+00,  4.2477e+01,  3.3843e+01, -1.5336e+00,\n",
      "          4.6791e+01,  3.7177e+01,  7.4277e-02,  1.8637e+01,  3.7164e+01,\n",
      "          6.8330e+00,  2.1420e+01,  4.1338e+01,  5.2322e+00,  2.4396e+01,\n",
      "          4.4096e+01,  3.1305e+00,  2.9262e+01,  4.5350e+01,  8.8611e-01,\n",
      "          3.4702e+01,  4.5582e+01, -5.1243e-01,  4.0463e+01,  4.4798e+01,\n",
      "         -8.3196e-01,  4.5426e+01,  4.3101e+01, -3.3613e-02,  4.8745e+01,\n",
      "          4.1506e+01,  5.0029e-01,  5.0657e+01,  3.9424e+01,  7.4246e-01,\n",
      "          1.7885e+01,  3.2549e+01,  2.9949e+00,  1.9892e+01,  2.9190e+01,\n",
      "         -5.4844e-01,  2.3836e+01,  2.6233e+01, -2.9865e+00,  3.0197e+01,\n",
      "          2.4830e+01, -4.9226e+00,  3.7339e+01,  2.5700e+01, -4.7915e+00,\n",
      "          4.3435e+01,  2.8759e+01, -2.7815e+00,  4.8784e+01,  3.4556e+01,\n",
      "         -1.0134e+00,  1.5936e+01,  3.8496e+01,  9.2396e+00,  1.8019e+01,\n",
      "          4.5007e+01,  8.6519e+00,  2.1057e+01,  4.7987e+01,  6.1639e+00,\n",
      "          2.7006e+01,  4.9907e+01,  3.1818e+00,  3.4310e+01,  4.9918e+01,\n",
      "          1.1650e+00,  4.1247e+01,  4.8343e+01,  4.5977e-02,  4.6689e+01,\n",
      "          4.6203e+01, -1.5699e-01,  5.0446e+01,  4.4207e+01, -7.5059e-01,\n",
      "          5.3263e+01,  4.0695e+01, -2.0797e+00,  1.5599e+01,  3.1944e+01,\n",
      "          4.3967e+00,  1.6978e+01,  2.6634e+01, -6.9761e-01,  2.1442e+01,\n",
      "          2.3520e+01, -4.3183e+00,  2.8323e+01,  2.2053e+01, -6.7231e+00,\n",
      "          3.7023e+01,  2.2959e+01, -7.2342e+00,  4.6941e+01,  2.7499e+01,\n",
      "         -5.7632e+00,  5.1956e+01,  3.3829e+01, -3.0312e+00,  1.1843e+01,\n",
      "          3.9796e+01,  1.3486e+01,  1.1903e+01,  3.0675e+01,  6.5444e+00,\n",
      "          1.2656e+01,  2.2636e+01,  3.1885e-02,  1.7521e+01,  1.7989e+01,\n",
      "         -5.5642e+00,  2.5293e+01,  1.6077e+01, -9.9498e+00,  3.6276e+01,\n",
      "          1.7414e+01, -1.2881e+01,  7.5540e+00,  4.0479e+01,  1.9008e+01,\n",
      "          1.2838e+01,  4.9104e+01,  1.2273e+01,  1.6655e+01,  5.3847e+01,\n",
      "          7.9431e+00,  2.3721e+01,  5.6341e+01,  3.3786e+00,  3.4170e+01,\n",
      "          5.5436e+01,  1.2113e+00,  4.1812e+01,  5.2843e+01, -1.9222e-01,\n",
      "          4.7445e+01,  4.9936e+01, -2.0020e+00,  5.1792e+01,  4.6740e+01,\n",
      "         -3.3096e+00,  5.4949e+01,  4.1833e+01, -5.4731e+00,  8.2711e+00,\n",
      "          2.8951e+01,  1.1877e+01,  9.4437e+00,  1.9487e+01,  4.0472e+00,\n",
      "          1.4472e+01,  1.3448e+01, -3.9380e+00,  2.3219e+01,  1.0864e+01,\n",
      "         -1.0289e+01,  3.5249e+01,  1.2166e+01, -1.5056e+01,  4.9257e+01,\n",
      "          1.4673e+01, -1.7071e+01,  5.1101e+01,  2.2901e+01, -1.3468e+01,\n",
      "          5.6727e+01,  3.3609e+01, -9.8657e+00]]), tensor([[33.9247, 36.2210,  2.4556, 39.8831, 35.9522,  2.4616, 33.6053, 30.3529,\n",
      "          2.4876, 27.8025, 36.4525,  2.4798, 34.2488, 42.0898,  2.4620]])]\n"
     ]
    }
   ],
   "source": [
    "print(out)"
   ]
  },
  {
   "cell_type": "code",
   "execution_count": 32,
   "metadata": {},
   "outputs": [],
   "source": [
    "%matplotlib inline\n",
    "import matplotlib.pyplot as plt"
   ]
  },
  {
   "cell_type": "code",
   "execution_count": 33,
   "metadata": {},
   "outputs": [
    {
     "data": {
      "text/plain": [
       "<matplotlib.image.AxesImage at 0x7f2735da9310>"
      ]
     },
     "execution_count": 33,
     "metadata": {},
     "output_type": "execute_result"
    },
    {
     "data": {
      "image/png": "[encoded data removed]",
      "text/plain": [
       "<Figure size 432x288 with 1 Axes>"
      ]
     },
     "metadata": {
      "needs_background": "light"
     },
     "output_type": "display_data"
    }
   ],
   "source": [
    "plt.imshow(img_ori.squeeze())"
   ]
  },
  {
   "cell_type": "code",
   "execution_count": 34,
   "metadata": {},
   "outputs": [],
   "source": [
    "hand_kpts = output_data.reshape(-1, 3)\n",
    "iris = output_score.reshape(-1,3)"
   ]
  },
  {
   "cell_type": "code",
   "execution_count": 35,
   "metadata": {},
   "outputs": [
    {
     "data": {
      "text/plain": [
       "<matplotlib.collections.PathCollection at 0x7f273eaa2d10>"
      ]
     },
     "execution_count": 35,
     "metadata": {},
     "output_type": "execute_result"
    },
    {
     "data": {
      "image/png": "[encoded data removed]",
      "text/plain": [
       "<Figure size 432x288 with 1 Axes>"
      ]
     },
     "metadata": {
      "needs_background": "light"
     },
     "output_type": "display_data"
    }
   ],
   "source": [
    "fig, ax = plt.subplots()\n",
    "ax.imshow(img_ori.squeeze())\n",
    "ax.scatter(hand_kpts[:, 0], hand_kpts[:, 1])\n",
    "ax.scatter(iris[:, 0], iris[:, 1])"
   ]
  },
  {
   "cell_type": "code",
   "execution_count": 36,
   "metadata": {},
   "outputs": [
    {
     "data": {
      "text/plain": [
       "<matplotlib.collections.PathCollection at 0x7f273ea1ad50>"
      ]
     },
     "execution_count": 36,
     "metadata": {},
     "output_type": "execute_result"
    },
    {
     "data": {
      "image/png": "[encoded data removed]",
      "text/plain": [
       "<Figure size 432x288 with 1 Axes>"
      ]
     },
     "metadata": {
      "needs_background": "light"
     },
     "output_type": "display_data"
    }
   ],
   "source": [
    "detections1, detections2 = out\n",
    "detections1 = detections1.reshape(-1,3)\n",
    "detections2 = detections2.reshape(-1,3)\n",
    "fig, ax = plt.subplots()\n",
    "ax.imshow(img_ori.squeeze())\n",
    "ax.scatter(detections1[:, 0], detections1[:, 1])\n",
    "ax.scatter(detections2[:, 0], detections2[:, 1])"
   ]
  },
  {
   "cell_type": "code",
   "execution_count": null,
   "metadata": {},
   "outputs": [],
   "source": []
  }
 ],
 "metadata": {
  "kernelspec": {
   "display_name": "test",
   "language": "python",
   "name": "test"
  },
  "language_info": {
   "codemirror_mode": {
    "name": "ipython",
    "version": 3
   },
   "file_extension": ".py",
   "mimetype": "text/x-python",
   "name": "python",
   "nbconvert_exporter": "python",
   "pygments_lexer": "ipython3",
   "version": "3.7.8"
  }
 },
 "nbformat": 4,
 "nbformat_minor": 4
}
