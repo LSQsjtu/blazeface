{
 "cells": [
  {
   "cell_type": "markdown",
   "metadata": {},
   "source": [
    "### run tflite model"
   ]
  },
  {
   "cell_type": "code",
   "execution_count": 1,
   "metadata": {},
   "outputs": [
    {
     "name": "stdout",
     "output_type": "stream",
     "text": [
      "The history saving thread hit an unexpected error (DatabaseError('database disk image is malformed')).History will not be written to the database.\n"
     ]
    }
   ],
   "source": [
    "import numpy as np\n",
    "import tflite_runtime.interpreter as tflite"
   ]
  },
  {
   "cell_type": "code",
   "execution_count": 2,
   "metadata": {},
   "outputs": [],
   "source": [
    "interpreter = tflite.Interpreter(model_path='./mediapipe/mediapipe/models/iris_landmark.tflite')\n",
    "interpreter.allocate_tensors()"
   ]
  },
  {
   "cell_type": "code",
   "execution_count": 3,
   "metadata": {},
   "outputs": [],
   "source": [
    "# Get input and output tensors.\n",
    "input_details = interpreter.get_input_details()\n",
    "output_details = interpreter.get_output_details()"
   ]
  },
  {
   "cell_type": "code",
   "execution_count": 4,
   "metadata": {},
   "outputs": [],
   "source": [
    "# Test model on random input data.\n",
    "input_shape = input_details[0]['shape']\n",
    "input_data = np.array(np.random.random_sample(input_shape), dtype=np.float32)\n",
    "interpreter.set_tensor(input_details[0]['index'], input_data)\n",
    "\n",
    "interpreter.invoke()"
   ]
  },
  {
   "cell_type": "code",
   "execution_count": 5,
   "metadata": {},
   "outputs": [
    {
     "name": "stdout",
     "output_type": "stream",
     "text": [
      "[[21.909721   32.969776    4.7278996  23.649357   33.980408    3.3298676\n",
      "  25.507898   34.464184    2.0946882  27.948002   34.977734    0.73552155\n",
      "  31.24988    35.136616   -0.6274537  34.22344    34.86361    -1.2586683\n",
      "  36.74186    34.14087    -1.2012439  38.54272    33.545437   -0.6881331\n",
      "  39.345016   33.040783   -0.7642733  23.141647   32.440857    3.0916169\n",
      "  24.529057   31.859947    1.6981865  26.823042   31.02741     0.47429597\n",
      "  30.265224   30.464115   -0.78392315 33.48884    30.662697   -1.4765882\n",
      "  36.52132    31.331738   -1.3512982  38.51961    32.31887    -1.0235138\n",
      "  20.518238   33.072784    5.312389   22.212337   35.64824     3.8513026\n",
      "  24.58007    36.977737    2.129624   28.065544   37.826515    0.19605249\n",
      "  31.55059    37.57008    -1.2110426  34.961388   36.96912    -2.086228\n",
      "  37.726646   35.817337   -2.1199296  39.570976   34.575363   -1.8047974\n",
      "  40.543976   32.960983   -1.5567045  20.370312   30.838198    3.3834503\n",
      "  22.134844   29.230848    1.3219572  24.674574   27.55342    -0.25422996\n",
      "  28.617727   26.722607   -1.8223201  32.737526   26.967747   -2.4688053\n",
      "  36.340183   28.224432   -2.2249532  39.584793   30.764868   -1.878283\n",
      "  19.045023   34.68674     6.804907   20.550674   39.034607    5.4230514\n",
      "  22.574581   40.688248    3.2310169  26.72098    41.938606    0.52166003\n",
      "  31.631517   41.470867   -1.393115   36.04129    40.094875   -2.5897596\n",
      "  39.224506   38.312656   -3.0457516  41.373524   36.677757   -3.6133168\n",
      "  42.88522    34.147972   -4.064163   18.816751   31.058983    4.730495\n",
      "  20.0198     27.93514     1.9596663  23.09405    25.904123   -0.3895281\n",
      "  27.384968   24.664625   -2.2858093  32.26649    24.746454   -3.495947\n",
      "  38.045338   26.867422   -3.9368007  41.5049     30.178513   -3.6534653\n",
      "  16.758104   36.105072    9.5062     16.539013   30.812551    6.772406\n",
      "  17.280672   26.415035    3.3848703  20.437916   23.508848    0.16495281\n",
      "  25.199423   21.529945   -3.1562703  31.511864   21.158484   -6.053651\n",
      "  13.951141   37.312794   13.069026   17.471893   41.978104    7.2616367\n",
      "  20.221891   44.893135    3.6434612  25.123392   46.382015   -0.36989775\n",
      "  31.974255   45.260746   -2.4849553  36.755447   43.14305    -3.7051528\n",
      "  40.402843   40.98251    -4.869329   42.86549    38.54664    -5.540399\n",
      "  44.366882   35.137264   -6.6199193  14.141069   30.468878   10.378925\n",
      "  15.287916   25.311691    6.760472   18.459053   21.314274    2.051381\n",
      "  23.674599   19.034874   -2.0695276  30.51047    18.454643   -6.347447\n",
      "  38.949203   18.919138   -8.84142    40.553402   23.320608   -8.242707\n",
      "  45.031986   29.89944    -8.2183695 ]] [[36.897263  36.6514     2.566371  40.09445   35.96728    2.5186608\n",
      "  36.638523  33.768303   2.540682  33.737785  37.35276    2.656695\n",
      "  37.36058   39.56829    2.5490682]]\n"
     ]
    }
   ],
   "source": [
    "# The function `get_tensor()` returns a copy of the tensor data.\n",
    "# Use `tensor()` in order to get a pointer to the tensor.\n",
    "output_data  = interpreter.get_tensor(output_details[0]['index'])\n",
    "output_score  = interpreter.get_tensor(output_details[1]['index'])\n",
    "print(output_data, output_score)"
   ]
  },
  {
   "cell_type": "code",
   "execution_count": 6,
   "metadata": {},
   "outputs": [
    {
     "name": "stdout",
     "output_type": "stream",
     "text": [
      "24 ms ± 288 µs per loop (mean ± std. dev. of 7 runs, 10 loops each)\n"
     ]
    }
   ],
   "source": [
    "%%timeit\n",
    "interpreter.set_tensor(input_details[0]['index'], input_data)\n",
    "interpreter.invoke()"
   ]
  },
  {
   "cell_type": "code",
   "execution_count": 7,
   "metadata": {},
   "outputs": [],
   "source": [
    "import torch"
   ]
  },
  {
   "cell_type": "code",
   "execution_count": 8,
   "metadata": {},
   "outputs": [
    {
     "name": "stdout",
     "output_type": "stream",
     "text": [
      "PyTorch version: 1.4.0\n",
      "CUDA version: 10.0\n",
      "cuDNN version: 7603\n"
     ]
    }
   ],
   "source": [
    "print(\"PyTorch version:\", torch.__version__)\n",
    "print(\"CUDA version:\", torch.version.cuda)\n",
    "print(\"cuDNN version:\", torch.backends.cudnn.version())"
   ]
  },
  {
   "cell_type": "code",
   "execution_count": 9,
   "metadata": {},
   "outputs": [],
   "source": [
    "# device = torch.device(\"cuda:0\" if torch.cuda.is_available() else \"cpu\")\n",
    "device = torch.device(\"cpu\")\n",
    "from blazeiris import Blazeiris\n",
    "\n",
    "net = Blazeiris().to(device)\n",
    "net.load_weights(\"blazeiris.pth\")"
   ]
  },
  {
   "cell_type": "code",
   "execution_count": 10,
   "metadata": {},
   "outputs": [],
   "source": [
    "input_t = torch.from_numpy(input_data).permute((0, 3, 1, 2)).to(device)"
   ]
  },
  {
   "cell_type": "code",
   "execution_count": 11,
   "metadata": {},
   "outputs": [],
   "source": [
    "with torch.no_grad():\n",
    "    out = net(input_t)"
   ]
  },
  {
   "cell_type": "code",
   "execution_count": 12,
   "metadata": {},
   "outputs": [
    {
     "name": "stdout",
     "output_type": "stream",
     "text": [
      "[[21.909721   32.969776    4.7278996  23.649357   33.980408    3.3298676\n",
      "  25.507898   34.464184    2.0946882  27.948002   34.977734    0.73552155\n",
      "  31.24988    35.136616   -0.6274537  34.22344    34.86361    -1.2586683\n",
      "  36.74186    34.14087    -1.2012439  38.54272    33.545437   -0.6881331\n",
      "  39.345016   33.040783   -0.7642733  23.141647   32.440857    3.0916169\n",
      "  24.529057   31.859947    1.6981865  26.823042   31.02741     0.47429597\n",
      "  30.265224   30.464115   -0.78392315 33.48884    30.662697   -1.4765882\n",
      "  36.52132    31.331738   -1.3512982  38.51961    32.31887    -1.0235138\n",
      "  20.518238   33.072784    5.312389   22.212337   35.64824     3.8513026\n",
      "  24.58007    36.977737    2.129624   28.065544   37.826515    0.19605249\n",
      "  31.55059    37.57008    -1.2110426  34.961388   36.96912    -2.086228\n",
      "  37.726646   35.817337   -2.1199296  39.570976   34.575363   -1.8047974\n",
      "  40.543976   32.960983   -1.5567045  20.370312   30.838198    3.3834503\n",
      "  22.134844   29.230848    1.3219572  24.674574   27.55342    -0.25422996\n",
      "  28.617727   26.722607   -1.8223201  32.737526   26.967747   -2.4688053\n",
      "  36.340183   28.224432   -2.2249532  39.584793   30.764868   -1.878283\n",
      "  19.045023   34.68674     6.804907   20.550674   39.034607    5.4230514\n",
      "  22.574581   40.688248    3.2310169  26.72098    41.938606    0.52166003\n",
      "  31.631517   41.470867   -1.393115   36.04129    40.094875   -2.5897596\n",
      "  39.224506   38.312656   -3.0457516  41.373524   36.677757   -3.6133168\n",
      "  42.88522    34.147972   -4.064163   18.816751   31.058983    4.730495\n",
      "  20.0198     27.93514     1.9596663  23.09405    25.904123   -0.3895281\n",
      "  27.384968   24.664625   -2.2858093  32.26649    24.746454   -3.495947\n",
      "  38.045338   26.867422   -3.9368007  41.5049     30.178513   -3.6534653\n",
      "  16.758104   36.105072    9.5062     16.539013   30.812551    6.772406\n",
      "  17.280672   26.415035    3.3848703  20.437916   23.508848    0.16495281\n",
      "  25.199423   21.529945   -3.1562703  31.511864   21.158484   -6.053651\n",
      "  13.951141   37.312794   13.069026   17.471893   41.978104    7.2616367\n",
      "  20.221891   44.893135    3.6434612  25.123392   46.382015   -0.36989775\n",
      "  31.974255   45.260746   -2.4849553  36.755447   43.14305    -3.7051528\n",
      "  40.402843   40.98251    -4.869329   42.86549    38.54664    -5.540399\n",
      "  44.366882   35.137264   -6.6199193  14.141069   30.468878   10.378925\n",
      "  15.287916   25.311691    6.760472   18.459053   21.314274    2.051381\n",
      "  23.674599   19.034874   -2.0695276  30.51047    18.454643   -6.347447\n",
      "  38.949203   18.919138   -8.84142    40.553402   23.320608   -8.242707\n",
      "  45.031986   29.89944    -8.2183695 ]] [[36.897263  36.6514     2.566371  40.09445   35.96728    2.5186608\n",
      "  36.638523  33.768303   2.540682  33.737785  37.35276    2.656695\n",
      "  37.36058   39.56829    2.5490682]]\n",
      "(1, 64, 64, 3)\n"
     ]
    }
   ],
   "source": [
    "print(output_data, output_score)\n",
    "print(input_data.shape)"
   ]
  },
  {
   "cell_type": "code",
   "execution_count": 13,
   "metadata": {},
   "outputs": [
    {
     "data": {
      "text/plain": [
       "[tensor([[21.9097, 32.9698,  4.7279, 23.6493, 33.9804,  3.3299, 25.5079, 34.4642,\n",
       "           2.0947, 27.9480, 34.9777,  0.7355, 31.2499, 35.1366, -0.6275, 34.2234,\n",
       "          34.8636, -1.2587, 36.7418, 34.1408, -1.2012, 38.5427, 33.5455, -0.6881,\n",
       "          39.3450, 33.0408, -0.7643, 23.1416, 32.4409,  3.0916, 24.5291, 31.8600,\n",
       "           1.6982, 26.8230, 31.0274,  0.4743, 30.2652, 30.4641, -0.7839, 33.4888,\n",
       "          30.6627, -1.4766, 36.5213, 31.3317, -1.3513, 38.5196, 32.3189, -1.0235,\n",
       "          20.5182, 33.0728,  5.3124, 22.2123, 35.6482,  3.8513, 24.5801, 36.9777,\n",
       "           2.1296, 28.0655, 37.8265,  0.1961, 31.5506, 37.5701, -1.2110, 34.9614,\n",
       "          36.9691, -2.0862, 37.7266, 35.8173, -2.1199, 39.5710, 34.5754, -1.8048,\n",
       "          40.5440, 32.9610, -1.5567, 20.3703, 30.8382,  3.3835, 22.1348, 29.2309,\n",
       "           1.3220, 24.6746, 27.5534, -0.2542, 28.6177, 26.7226, -1.8223, 32.7375,\n",
       "          26.9678, -2.4688, 36.3402, 28.2244, -2.2250, 39.5848, 30.7649, -1.8783,\n",
       "          19.0450, 34.6867,  6.8049, 20.5507, 39.0346,  5.4231, 22.5746, 40.6882,\n",
       "           3.2310, 26.7210, 41.9386,  0.5217, 31.6315, 41.4709, -1.3931, 36.0413,\n",
       "          40.0949, -2.5898, 39.2245, 38.3127, -3.0458, 41.3735, 36.6778, -3.6133,\n",
       "          42.8852, 34.1480, -4.0642, 18.8167, 31.0590,  4.7305, 20.0198, 27.9351,\n",
       "           1.9597, 23.0940, 25.9041, -0.3895, 27.3850, 24.6646, -2.2858, 32.2665,\n",
       "          24.7464, -3.4960, 38.0453, 26.8674, -3.9368, 41.5049, 30.1785, -3.6535,\n",
       "          16.7581, 36.1051,  9.5062, 16.5390, 30.8126,  6.7724, 17.2807, 26.4150,\n",
       "           3.3849, 20.4379, 23.5089,  0.1650, 25.1994, 21.5299, -3.1563, 31.5119,\n",
       "          21.1585, -6.0537, 13.9511, 37.3128, 13.0690, 17.4719, 41.9781,  7.2617,\n",
       "          20.2219, 44.8931,  3.6435, 25.1234, 46.3820, -0.3699, 31.9743, 45.2608,\n",
       "          -2.4850, 36.7554, 43.1431, -3.7052, 40.4028, 40.9825, -4.8693, 42.8655,\n",
       "          38.5466, -5.5404, 44.3669, 35.1373, -6.6199, 14.1411, 30.4689, 10.3789,\n",
       "          15.2879, 25.3117,  6.7605, 18.4590, 21.3143,  2.0514, 23.6746, 19.0349,\n",
       "          -2.0695, 30.5105, 18.4546, -6.3475, 38.9492, 18.9191, -8.8414, 40.5534,\n",
       "          23.3206, -8.2427, 45.0320, 29.8994, -8.2184]]),\n",
       " tensor([[36.8973, 36.6514,  2.5664, 40.0944, 35.9673,  2.5187, 36.6385, 33.7683,\n",
       "           2.5407, 33.7378, 37.3528,  2.6567, 37.3606, 39.5683,  2.5491]])]"
      ]
     },
     "execution_count": 13,
     "metadata": {},
     "output_type": "execute_result"
    }
   ],
   "source": [
    "out"
   ]
  },
  {
   "cell_type": "code",
   "execution_count": 14,
   "metadata": {},
   "outputs": [],
   "source": [
    "import cv2\n",
    "img = cv2.imread(\"eyesample2.jpg\")\n",
    "img = cv2.cvtColor(img, cv2.COLOR_BGR2RGB)\n",
    "\n",
    "img_ori = cv2.resize(img, (64,64))"
   ]
  },
  {
   "cell_type": "code",
   "execution_count": 15,
   "metadata": {},
   "outputs": [
    {
     "data": {
      "text/plain": [
       "(1, 64, 64, 3)"
      ]
     },
     "execution_count": 15,
     "metadata": {},
     "output_type": "execute_result"
    }
   ],
   "source": [
    "img_ori = img_ori[np.newaxis, ...]\n",
    "input_data = img_ori.astype('float32')\n",
    "input_data = input_data / 127.5 - 1.0\n",
    "input_data.shape"
   ]
  },
  {
   "cell_type": "code",
   "execution_count": 16,
   "metadata": {},
   "outputs": [
    {
     "data": {
      "text/plain": [
       "-0.96862745"
      ]
     },
     "execution_count": 16,
     "metadata": {},
     "output_type": "execute_result"
    }
   ],
   "source": [
    "input_data.min()"
   ]
  },
  {
   "cell_type": "code",
   "execution_count": 17,
   "metadata": {},
   "outputs": [
    {
     "name": "stdout",
     "output_type": "stream",
     "text": [
      "[[ 20.199902    36.47366      5.242034    22.561987    38.73013\n",
      "    3.6028562   25.132092    40.149277     2.2678447   28.715712\n",
      "   41.090824     0.6922799   33.69872     41.16095     -0.36431423\n",
      "   38.48287     40.33644     -0.3428996   43.047825    39.184006\n",
      "    0.5900787   46.11066     38.70252      1.6962507   47.45645\n",
      "   38.201767     1.7142663   21.412014    35.236538     2.6694076\n",
      "   23.034483    33.794716     0.6145719   25.958042    31.94916\n",
      "   -1.2692604   30.855669    30.696815    -2.5492582   35.99106\n",
      "   30.924528    -2.4692311   41.364822    33.062138    -1.2275732\n",
      "   45.52043     36.180912     0.43962747  17.972286    36.34012\n",
      "    6.3076425   20.887411    40.513275     4.75683     23.93947\n",
      "   43.16878      2.7714238   28.854635    44.242043     0.6711279\n",
      "   34.18095     44.295475    -0.54226583  39.74244     43.43052\n",
      "   -0.6440459   44.445457    41.803673     0.31874764  47.596535\n",
      "   40.27668      0.9315882   49.421833    38.306183     1.2309594\n",
      "   17.321266    31.722366     2.5271883   19.416138    28.388796\n",
      "   -0.89581335  23.302576    25.553698    -3.1886892   29.504374\n",
      "   24.229836    -4.91227     36.39195     25.069677    -4.583057\n",
      "   42.34525     28.09825     -2.4305367   47.613575    33.660297\n",
      "   -0.58157265  15.337415    37.571545     8.56461     17.67247\n",
      "   44.165577     8.025561    20.807026    47.148357     5.6148095\n",
      "   26.870417    48.938328     2.8171716   34.077232    48.73482\n",
      "    1.0392959   40.78647     47.028275     0.19671176  46.015358\n",
      "   44.91057      0.21745515  49.681633    42.927708    -0.24706584\n",
      "   52.448658    39.486042    -1.4451689   15.023788    31.015192\n",
      "    3.786362    16.403698    25.775127    -1.1964722   20.917496\n",
      "   22.761831    -4.5983567   27.733343    21.430614    -6.7303424\n",
      "   36.253735    22.392231    -7.0164905   45.99782     26.858847\n",
      "   -5.306665    50.99433     32.86731     -2.4288764   11.422127\n",
      "   38.841198    12.6194935   11.354238    29.733648     5.7656884\n",
      "   12.101909    21.766113    -0.55392176  16.95107     17.22708\n",
      "   -5.8884735   24.76133     15.4644      -9.947623    35.735043\n",
      "   16.867094   -12.54106      7.13734     39.51844     17.882843\n",
      "   12.789102    48.284332    11.407034    16.84548     53.145645\n",
      "    7.146992    24.073092    55.581852     2.8284144   34.36146\n",
      "   54.361744     1.0186354   41.744743    51.566994    -0.07221181\n",
      "   47.17167     48.644615    -1.622657    51.430016    45.441193\n",
      "   -2.7494574   54.488834    40.602016    -4.7280736    7.653746\n",
      "   27.999468    10.943781     8.788918    18.608435     3.3621166\n",
      "   13.835057    12.629006    -4.3422585   22.626106    10.185792\n",
      "  -10.330168    34.707317    11.591661   -14.710921    48.605747\n",
      "   14.048594   -16.297903    50.47919     22.20946    -12.675112\n",
      "   56.196465    32.516407    -8.959011  ]] [[33.195175  35.33694    5.620748  39.355587  34.82354    5.665594\n",
      "  32.659348  29.344168   5.6538916 26.830551  35.89463    5.6409616\n",
      "  33.755135  41.347908   5.639093 ]]\n"
     ]
    }
   ],
   "source": [
    "interpreter = tflite.Interpreter(model_path='./mediapipe/mediapipe/models/iris_landmark.tflite')\n",
    "interpreter.allocate_tensors()\n",
    "\n",
    "# Get input and output tensors.\n",
    "input_details = interpreter.get_input_details()\n",
    "output_details = interpreter.get_output_details()\n",
    "interpreter.set_tensor(input_details[0]['index'], input_data)\n",
    "\n",
    "interpreter.invoke()\n",
    "output_data = interpreter.get_tensor(output_details[0]['index'])\n",
    "output_score = interpreter.get_tensor(output_details[1]['index'])\n",
    "print(output_data, output_score)"
   ]
  },
  {
   "cell_type": "code",
   "execution_count": 18,
   "metadata": {},
   "outputs": [],
   "source": [
    "input_t = torch.from_numpy(input_data).permute((0, 3, 1, 2)).to(device)\n",
    "with torch.no_grad():\n",
    "    out = net(input_t)"
   ]
  },
  {
   "cell_type": "code",
   "execution_count": 19,
   "metadata": {},
   "outputs": [
    {
     "name": "stdout",
     "output_type": "stream",
     "text": [
      "[tensor([[ 20.1999,  36.4737,   5.2420,  22.5620,  38.7301,   3.6029,  25.1321,\n",
      "          40.1493,   2.2678,  28.7157,  41.0908,   0.6923,  33.6987,  41.1609,\n",
      "          -0.3643,  38.4829,  40.3364,  -0.3429,  43.0478,  39.1840,   0.5901,\n",
      "          46.1106,  38.7025,   1.6963,  47.4565,  38.2018,   1.7143,  21.4120,\n",
      "          35.2365,   2.6694,  23.0345,  33.7947,   0.6146,  25.9581,  31.9492,\n",
      "          -1.2693,  30.8557,  30.6968,  -2.5493,  35.9911,  30.9245,  -2.4692,\n",
      "          41.3648,  33.0621,  -1.2276,  45.5204,  36.1809,   0.4396,  17.9723,\n",
      "          36.3401,   6.3076,  20.8874,  40.5133,   4.7568,  23.9395,  43.1688,\n",
      "           2.7714,  28.8547,  44.2420,   0.6711,  34.1810,  44.2955,  -0.5423,\n",
      "          39.7424,  43.4305,  -0.6440,  44.4455,  41.8037,   0.3187,  47.5965,\n",
      "          40.2767,   0.9316,  49.4218,  38.3062,   1.2310,  17.3213,  31.7224,\n",
      "           2.5272,  19.4161,  28.3888,  -0.8958,  23.3026,  25.5537,  -3.1887,\n",
      "          29.5044,  24.2298,  -4.9123,  36.3920,  25.0697,  -4.5831,  42.3452,\n",
      "          28.0983,  -2.4305,  47.6136,  33.6603,  -0.5816,  15.3374,  37.5716,\n",
      "           8.5646,  17.6725,  44.1656,   8.0256,  20.8070,  47.1484,   5.6148,\n",
      "          26.8704,  48.9383,   2.8172,  34.0772,  48.7348,   1.0393,  40.7865,\n",
      "          47.0283,   0.1967,  46.0154,  44.9106,   0.2175,  49.6816,  42.9277,\n",
      "          -0.2471,  52.4487,  39.4861,  -1.4452,  15.0238,  31.0152,   3.7864,\n",
      "          16.4037,  25.7751,  -1.1965,  20.9175,  22.7618,  -4.5984,  27.7334,\n",
      "          21.4306,  -6.7303,  36.2538,  22.3922,  -7.0165,  45.9978,  26.8589,\n",
      "          -5.3067,  50.9943,  32.8673,  -2.4289,  11.4221,  38.8412,  12.6195,\n",
      "          11.3542,  29.7336,   5.7657,  12.1019,  21.7661,  -0.5539,  16.9511,\n",
      "          17.2271,  -5.8885,  24.7613,  15.4644,  -9.9476,  35.7351,  16.8671,\n",
      "         -12.5411,   7.1373,  39.5185,  17.8828,  12.7891,  48.2843,  11.4070,\n",
      "          16.8455,  53.1456,   7.1470,  24.0731,  55.5818,   2.8284,  34.3615,\n",
      "          54.3617,   1.0186,  41.7447,  51.5670,  -0.0722,  47.1717,  48.6446,\n",
      "          -1.6227,  51.4300,  45.4412,  -2.7495,  54.4888,  40.6020,  -4.7281,\n",
      "           7.6537,  27.9995,  10.9438,   8.7889,  18.6084,   3.3621,  13.8351,\n",
      "          12.6290,  -4.3423,  22.6261,  10.1858, -10.3302,  34.7073,  11.5917,\n",
      "         -14.7109,  48.6057,  14.0486, -16.2979,  50.4792,  22.2094, -12.6751,\n",
      "          56.1965,  32.5164,  -8.9590]]), tensor([[33.1952, 35.3369,  5.6207, 39.3556, 34.8235,  5.6656, 32.6593, 29.3442,\n",
      "          5.6539, 26.8306, 35.8946,  5.6410, 33.7552, 41.3479,  5.6391]])]\n"
     ]
    }
   ],
   "source": [
    "print(out)"
   ]
  },
  {
   "cell_type": "code",
   "execution_count": 20,
   "metadata": {},
   "outputs": [],
   "source": [
    "%matplotlib inline\n",
    "import matplotlib.pyplot as plt"
   ]
  },
  {
   "cell_type": "code",
   "execution_count": 21,
   "metadata": {},
   "outputs": [
    {
     "data": {
      "text/plain": [
       "<matplotlib.image.AxesImage at 0x7fa8e5ec2050>"
      ]
     },
     "execution_count": 21,
     "metadata": {},
     "output_type": "execute_result"
    },
    {
     "data": {
      "image/png": "[encoded data removed]",
      "text/plain": [
       "<Figure size 432x288 with 1 Axes>"
      ]
     },
     "metadata": {
      "needs_background": "light"
     },
     "output_type": "display_data"
    }
   ],
   "source": [
    "plt.imshow(img_ori.squeeze())"
   ]
  },
  {
   "cell_type": "code",
   "execution_count": 22,
   "metadata": {},
   "outputs": [],
   "source": [
    "hand_kpts = output_data.reshape(-1, 3)\n",
    "iris = output_score.reshape(-1,3)"
   ]
  },
  {
   "cell_type": "code",
   "execution_count": 23,
   "metadata": {},
   "outputs": [
    {
     "data": {
      "text/plain": [
       "<matplotlib.collections.PathCollection at 0x7fa8ddc1c450>"
      ]
     },
     "execution_count": 23,
     "metadata": {},
     "output_type": "execute_result"
    },
    {
     "data": {
      "image/png": "[encoded data removed]",
      "text/plain": [
       "<Figure size 432x288 with 1 Axes>"
      ]
     },
     "metadata": {
      "needs_background": "light"
     },
     "output_type": "display_data"
    }
   ],
   "source": [
    "fig, ax = plt.subplots()\n",
    "ax.imshow(img_ori.squeeze())\n",
    "ax.scatter(hand_kpts[:, 0], hand_kpts[:, 1])\n",
    "ax.scatter(iris[:, 0], iris[:, 1])"
   ]
  },
  {
   "cell_type": "code",
   "execution_count": 24,
   "metadata": {},
   "outputs": [
    {
     "data": {
      "text/plain": [
       "<matplotlib.collections.PathCollection at 0x7fa8ddba27d0>"
      ]
     },
     "execution_count": 24,
     "metadata": {},
     "output_type": "execute_result"
    },
    {
     "data": {
      "image/png": "[encoded data removed]",
      "text/plain": [
       "<Figure size 432x288 with 1 Axes>"
      ]
     },
     "metadata": {
      "needs_background": "light"
     },
     "output_type": "display_data"
    }
   ],
   "source": [
    "detections1, detections2 = out\n",
    "detections1 = detections1.reshape(-1,3)\n",
    "detections2 = detections2.reshape(-1,3)\n",
    "fig, ax = plt.subplots()\n",
    "ax.imshow(img_ori.squeeze())\n",
    "ax.scatter(detections1[:, 0], detections1[:, 1])\n",
    "ax.scatter(detections2[:, 0], detections2[:, 1])"
   ]
  },
  {
   "cell_type": "code",
   "execution_count": null,
   "metadata": {},
   "outputs": [],
   "source": []
  }
 ],
 "metadata": {
  "kernelspec": {
   "display_name": "test",
   "language": "python",
   "name": "test"
  },
  "language_info": {
   "codemirror_mode": {
    "name": "ipython",
    "version": 3
   },
   "file_extension": ".py",
   "mimetype": "text/x-python",
   "name": "python",
   "nbconvert_exporter": "python",
   "pygments_lexer": "ipython3",
   "version": "3.7.8"
  }
 },
 "nbformat": 4,
 "nbformat_minor": 4
}
