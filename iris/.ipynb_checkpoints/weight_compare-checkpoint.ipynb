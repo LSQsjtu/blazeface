{
 "cells": [
  {
   "cell_type": "markdown",
   "metadata": {},
   "source": [
    "### run tflite model"
   ]
  },
  {
   "cell_type": "code",
   "execution_count": 1,
   "metadata": {},
   "outputs": [],
   "source": [
    "import numpy as np\n",
    "import tflite_runtime.interpreter as tflite"
   ]
  },
  {
   "cell_type": "code",
   "execution_count": 2,
   "metadata": {},
   "outputs": [],
   "source": [
    "interpreter = tflite.Interpreter(model_path='./iris_landmark.tflite')\n",
    "interpreter.allocate_tensors()"
   ]
  },
  {
   "cell_type": "code",
   "execution_count": 3,
   "metadata": {},
   "outputs": [],
   "source": [
    "# Get input and output tensors.\n",
    "input_details = interpreter.get_input_details()\n",
    "output_details = interpreter.get_output_details()"
   ]
  },
  {
   "cell_type": "code",
   "execution_count": 4,
   "metadata": {},
   "outputs": [],
   "source": [
    "# Test model on random input data.\n",
    "input_shape = input_details[0]['shape']\n",
    "input_data = np.array(np.random.random_sample(input_shape), dtype=np.float32)\n",
    "interpreter.set_tensor(input_details[0]['index'], input_data)\n",
    "\n",
    "interpreter.invoke()"
   ]
  },
  {
   "cell_type": "code",
   "execution_count": 5,
   "metadata": {},
   "outputs": [
    {
     "name": "stdout",
     "output_type": "stream",
     "text": [
      "[[23.41212    33.59591     2.8171816  25.702707   35.133297    1.7572209\n",
      "  28.065805   35.9486      0.85446566 30.98883    36.503536   -0.07223416\n",
      "  34.88179    36.432266   -0.71108997 38.408535   35.874798   -0.54011405\n",
      "  41.422077   34.89665     0.2692497  43.33325    34.185894    1.213866\n",
      "  44.181896   33.670944    1.4119312  24.7034     32.506847    1.4981831\n",
      "  26.255314   31.314798    0.42846704 28.882128   29.881248   -0.4530761\n",
      "  32.876343   29.019304   -0.9443917  36.661243   29.363056   -0.81646794\n",
      "  40.484497   30.826218   -0.09344111 43.082726   32.625187    0.82023287\n",
      "  21.723454   33.920025    3.123397   23.769741   36.84115     2.0342124\n",
      "  26.645462   38.646645    0.726045   30.889965   39.502052   -0.5346161\n",
      "  35.15992    39.155495   -1.2084372  39.32035    38.246685   -1.2243036\n",
      "  42.660805   36.859142   -0.13974448 44.66607    35.32369     0.5625891\n",
      "  45.757153   33.619118    1.2710195  21.607576   31.029606    1.2975078\n",
      "  23.340763   28.461042   -0.35677177 26.357098   26.074104   -1.3874677\n",
      "  31.12265    24.79102    -2.0621765  36.36382    25.17202    -1.6880386\n",
      "  40.73435    27.230347   -0.4577655  44.63369    30.702269    0.58846116\n",
      "  19.504179   35.963055    4.297048   21.374636   40.731903    3.3258896\n",
      "  24.07748    42.424057    1.6510605  29.178047   43.67494    -0.0808491\n",
      "  35.123276   43.033123   -0.9136955  40.375244   41.31178    -1.1278082\n",
      "  44.27413    39.35329    -0.4575768  46.80681    37.581875   -0.52750033\n",
      "  48.66563    34.80906    -0.49802646 19.585335   31.389732    1.9966917\n",
      "  21.166372   27.113127   -0.41214943 24.923445   24.24522    -1.9332696\n",
      "  30.209095   22.460903   -2.6941054  36.385445   22.672682   -2.5908437\n",
      "  43.540867   25.793692   -1.6116852  47.40695    30.114372   -0.30870003\n",
      "  16.109604   37.635666    6.3227086  16.52219    31.22741     3.2344217\n",
      "  17.982368   25.30474     0.11929914 22.268011   21.415802   -2.1462352\n",
      "  28.382444   18.841589   -4.08233    36.38077    18.749567   -5.2242246\n",
      "  12.222925   38.92659     9.165588   17.215603   44.15544     4.538102\n",
      "  20.954092   47.121014    1.5688124  27.151106   48.479095   -1.1122392\n",
      "  35.402855   47.005936   -1.6955677  41.181953   44.53647    -1.758983\n",
      "  45.511395   42.067707   -1.9272355  48.57708    39.52754    -2.086486\n",
      "  50.67566    35.74966    -2.5832582  13.100007   30.730585    6.270147\n",
      "  15.32064    24.016914    2.759408   19.978224   19.021305   -0.914131\n",
      "  26.886696   16.110563   -3.6511118  35.573017   15.656295   -5.924225\n",
      "  45.757607   16.889593   -6.458947   47.397038   22.053242   -5.2163353\n",
      "  52.01993    29.727236   -4.104287  ]] [[34.574226  35.013103  -7.329339  37.449562  34.627632  -7.3950105\n",
      "  34.67896   31.97398   -7.485696  31.70014   35.45315   -7.300777\n",
      "  34.581177  37.85875   -7.3524446]]\n"
     ]
    }
   ],
   "source": [
    "# The function `get_tensor()` returns a copy of the tensor data.\n",
    "# Use `tensor()` in order to get a pointer to the tensor.\n",
    "output_data  = interpreter.get_tensor(output_details[0]['index'])\n",
    "output_score  = interpreter.get_tensor(output_details[1]['index'])\n",
    "print(output_data, output_score)"
   ]
  },
  {
   "cell_type": "code",
   "execution_count": 6,
   "metadata": {},
   "outputs": [
    {
     "name": "stdout",
     "output_type": "stream",
     "text": [
      "37 ms ± 8.25 ms per loop (mean ± std. dev. of 7 runs, 10 loops each)\n"
     ]
    }
   ],
   "source": [
    "%%timeit\n",
    "interpreter.set_tensor(input_details[0]['index'], input_data)\n",
    "interpreter.invoke()"
   ]
  },
  {
   "cell_type": "code",
   "execution_count": 7,
   "metadata": {},
   "outputs": [],
   "source": [
    "import torch"
   ]
  },
  {
   "cell_type": "code",
   "execution_count": 8,
   "metadata": {},
   "outputs": [
    {
     "name": "stdout",
     "output_type": "stream",
     "text": [
      "PyTorch version: 1.6.0\n",
      "CUDA version: 10.2\n",
      "cuDNN version: 7605\n"
     ]
    }
   ],
   "source": [
    "print(\"PyTorch version:\", torch.__version__)\n",
    "print(\"CUDA version:\", torch.version.cuda)\n",
    "print(\"cuDNN version:\", torch.backends.cudnn.version())"
   ]
  },
  {
   "cell_type": "code",
   "execution_count": 9,
   "metadata": {},
   "outputs": [
    {
     "ename": "ModuleNotFoundError",
     "evalue": "No module named 'blazeiris'",
     "output_type": "error",
     "traceback": [
      "\u001b[0;31m---------------------------------------------------------------------------\u001b[0m",
      "\u001b[0;31mModuleNotFoundError\u001b[0m                       Traceback (most recent call last)",
      "\u001b[0;32m<ipython-input-9-74f7f6b2f2cf>\u001b[0m in \u001b[0;36m<module>\u001b[0;34m\u001b[0m\n\u001b[1;32m      1\u001b[0m \u001b[0;31m# device = torch.device(\"cuda:0\" if torch.cuda.is_available() else \"cpu\")\u001b[0m\u001b[0;34m\u001b[0m\u001b[0;34m\u001b[0m\u001b[0;34m\u001b[0m\u001b[0m\n\u001b[1;32m      2\u001b[0m \u001b[0mdevice\u001b[0m \u001b[0;34m=\u001b[0m \u001b[0mtorch\u001b[0m\u001b[0;34m.\u001b[0m\u001b[0mdevice\u001b[0m\u001b[0;34m(\u001b[0m\u001b[0;34m\"cpu\"\u001b[0m\u001b[0;34m)\u001b[0m\u001b[0;34m\u001b[0m\u001b[0;34m\u001b[0m\u001b[0m\n\u001b[0;32m----> 3\u001b[0;31m \u001b[0;32mfrom\u001b[0m \u001b[0mblazeiris\u001b[0m \u001b[0;32mimport\u001b[0m \u001b[0mBlazeiris\u001b[0m\u001b[0;34m\u001b[0m\u001b[0;34m\u001b[0m\u001b[0m\n\u001b[0m\u001b[1;32m      4\u001b[0m \u001b[0;34m\u001b[0m\u001b[0m\n\u001b[1;32m      5\u001b[0m \u001b[0mnet\u001b[0m \u001b[0;34m=\u001b[0m \u001b[0mBlazeiris\u001b[0m\u001b[0;34m(\u001b[0m\u001b[0;34m)\u001b[0m\u001b[0;34m.\u001b[0m\u001b[0mto\u001b[0m\u001b[0;34m(\u001b[0m\u001b[0mdevice\u001b[0m\u001b[0;34m)\u001b[0m\u001b[0;34m\u001b[0m\u001b[0;34m\u001b[0m\u001b[0m\n",
      "\u001b[0;31mModuleNotFoundError\u001b[0m: No module named 'blazeiris'"
     ]
    }
   ],
   "source": [
    "# device = torch.device(\"cuda:0\" if torch.cuda.is_available() else \"cpu\")\n",
    "device = torch.device(\"cpu\")\n",
    "from iris import iris\n",
    "\n",
    "net = iris().to(device)\n",
    "net.load_weights(\"iris.pth\")"
   ]
  },
  {
   "cell_type": "code",
   "execution_count": null,
   "metadata": {},
   "outputs": [],
   "source": [
    "input_t = torch.from_numpy(input_data).permute((0, 3, 1, 2)).to(device)"
   ]
  },
  {
   "cell_type": "code",
   "execution_count": null,
   "metadata": {},
   "outputs": [],
   "source": [
    "with torch.no_grad():\n",
    "    out = net(input_t)"
   ]
  },
  {
   "cell_type": "code",
   "execution_count": null,
   "metadata": {},
   "outputs": [],
   "source": [
    "print(output_data, output_score)\n",
    "print(input_data.shape)"
   ]
  },
  {
   "cell_type": "code",
   "execution_count": null,
   "metadata": {},
   "outputs": [],
   "source": [
    "out"
   ]
  },
  {
   "cell_type": "code",
   "execution_count": null,
   "metadata": {},
   "outputs": [],
   "source": [
    "import cv2\n",
    "img = cv2.imread(\"./pics/eyesample2.jpg\")\n",
    "img = cv2.cvtColor(img, cv2.COLOR_BGR2RGB)\n",
    "\n",
    "img_ori = cv2.resize(img, (64,64))"
   ]
  },
  {
   "cell_type": "code",
   "execution_count": null,
   "metadata": {},
   "outputs": [],
   "source": [
    "img_ori = img_ori[np.newaxis, ...]\n",
    "input_data = img_ori.astype('float32')\n",
    "input_data = input_data / 127.5 - 1.0\n",
    "input_data.shape"
   ]
  },
  {
   "cell_type": "code",
   "execution_count": null,
   "metadata": {},
   "outputs": [],
   "source": [
    "input_data.min()"
   ]
  },
  {
   "cell_type": "code",
   "execution_count": null,
   "metadata": {},
   "outputs": [],
   "source": [
    "interpreter = tflite.Interpreter(model_path='./iris_landmark.tflite')\n",
    "interpreter.allocate_tensors()\n",
    "\n",
    "# Get input and output tensors.\n",
    "input_details = interpreter.get_input_details()\n",
    "output_details = interpreter.get_output_details()\n",
    "interpreter.set_tensor(input_details[0]['index'], input_data)\n",
    "\n",
    "interpreter.invoke()\n",
    "output_data = interpreter.get_tensor(output_details[0]['index'])\n",
    "output_score = interpreter.get_tensor(output_details[1]['index'])\n",
    "print(output_data, output_score)"
   ]
  },
  {
   "cell_type": "code",
   "execution_count": null,
   "metadata": {},
   "outputs": [],
   "source": [
    "input_t = torch.from_numpy(input_data).permute((0, 3, 1, 2)).to(device)\n",
    "with torch.no_grad():\n",
    "    out = net(input_t)"
   ]
  },
  {
   "cell_type": "code",
   "execution_count": null,
   "metadata": {},
   "outputs": [],
   "source": [
    "print(out)"
   ]
  },
  {
   "cell_type": "code",
   "execution_count": null,
   "metadata": {},
   "outputs": [],
   "source": [
    "%matplotlib inline\n",
    "import matplotlib.pyplot as plt"
   ]
  },
  {
   "cell_type": "code",
   "execution_count": null,
   "metadata": {},
   "outputs": [],
   "source": [
    "plt.imshow(img_ori.squeeze())"
   ]
  },
  {
   "cell_type": "code",
   "execution_count": null,
   "metadata": {},
   "outputs": [],
   "source": [
    "hand_kpts = output_data.reshape(-1, 3)\n",
    "iris = output_score.reshape(-1,3)"
   ]
  },
  {
   "cell_type": "code",
   "execution_count": null,
   "metadata": {},
   "outputs": [],
   "source": [
    "fig, ax = plt.subplots()\n",
    "ax.imshow(img_ori.squeeze())\n",
    "ax.scatter(hand_kpts[:, 0], hand_kpts[:, 1])\n",
    "ax.scatter(iris[:, 0], iris[:, 1])"
   ]
  },
  {
   "cell_type": "code",
   "execution_count": null,
   "metadata": {},
   "outputs": [],
   "source": [
    "detections1, detections2 = out\n",
    "detections1 = detections1.reshape(-1,3)\n",
    "detections2 = detections2.reshape(-1,3)\n",
    "fig, ax = plt.subplots()\n",
    "ax.imshow(img_ori.squeeze())\n",
    "ax.scatter(detections1[:, 0], detections1[:, 1])\n",
    "ax.scatter(detections2[:, 0], detections2[:, 1])"
   ]
  },
  {
   "cell_type": "code",
   "execution_count": null,
   "metadata": {},
   "outputs": [],
   "source": []
  }
 ],
 "metadata": {
  "kernelspec": {
   "display_name": "Python 3",
   "language": "python",
   "name": "python3"
  },
  "language_info": {
   "codemirror_mode": {
    "name": "ipython",
    "version": 3
   },
   "file_extension": ".py",
   "mimetype": "text/x-python",
   "name": "python",
   "nbconvert_exporter": "python",
   "pygments_lexer": "ipython3",
   "version": "3.7.9"
  }
 },
 "nbformat": 4,
 "nbformat_minor": 4
}
