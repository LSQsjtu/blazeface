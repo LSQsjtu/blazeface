{
 "cells": [
  {
   "cell_type": "markdown",
   "metadata": {},
   "source": [
    "### run tflite model"
   ]
  },
  {
   "cell_type": "code",
   "execution_count": 35,
   "metadata": {},
   "outputs": [],
   "source": [
    "import numpy as np\n",
    "import tflite_runtime.interpreter as tflite"
   ]
  },
  {
   "cell_type": "code",
   "execution_count": 36,
   "metadata": {},
   "outputs": [],
   "source": [
    "interpreter = tflite.Interpreter(model_path='./iris_landmark.tflite')\n",
    "interpreter.allocate_tensors()"
   ]
  },
  {
   "cell_type": "code",
   "execution_count": 37,
   "metadata": {},
   "outputs": [],
   "source": [
    "# Get input and output tensors.\n",
    "input_details = interpreter.get_input_details()\n",
    "output_details = interpreter.get_output_details()"
   ]
  },
  {
   "cell_type": "code",
   "execution_count": 38,
   "metadata": {},
   "outputs": [],
   "source": [
    "# Test model on random input data.\n",
    "input_shape = input_details[0]['shape']\n",
    "input_data = np.array(np.random.random_sample(input_shape), dtype=np.float32)\n",
    "interpreter.set_tensor(input_details[0]['index'], input_data)\n",
    "\n",
    "interpreter.invoke()"
   ]
  },
  {
   "cell_type": "code",
   "execution_count": 39,
   "metadata": {},
   "outputs": [
    {
     "name": "stdout",
     "output_type": "stream",
     "text": [
      "[[ 2.05659695e+01  3.45576057e+01  2.47770643e+00  2.23624191e+01\n",
      "   3.55053749e+01  1.65608716e+00  2.41763649e+01  3.60441551e+01\n",
      "   7.41016865e-01  2.65510387e+01  3.66399307e+01 -2.66304286e-03\n",
      "   2.97877560e+01  3.70660744e+01 -6.58978045e-01  3.25947075e+01\n",
      "   3.71597748e+01 -5.75318992e-01  3.50996780e+01  3.67717209e+01\n",
      "  -4.71835723e-03  3.66979942e+01  3.64185753e+01  8.60605776e-01\n",
      "   3.73603096e+01  3.59147835e+01  1.06217480e+00  2.18495712e+01\n",
      "   3.37007790e+01  1.51609731e+00  2.32693634e+01  3.27584381e+01\n",
      "   6.41554594e-01  2.56040268e+01  3.16224060e+01  1.05538376e-01\n",
      "   2.89954605e+01  3.11756401e+01 -2.77333379e-01  3.20531769e+01\n",
      "   3.18565826e+01 -2.56452948e-01  3.48761024e+01  3.33341942e+01\n",
      "   1.94319069e-01  3.66880226e+01  3.50539932e+01  7.09059000e-01\n",
      "   1.91508560e+01  3.49044495e+01  2.69749737e+00  2.05386696e+01\n",
      "   3.72000885e+01  1.54591370e+00  2.28241100e+01  3.85675659e+01\n",
      "   3.79114479e-01  2.62192650e+01  3.93914642e+01 -7.44869769e-01\n",
      "   2.97431450e+01  3.94139862e+01 -1.29206669e+00  3.29847412e+01\n",
      "   3.91748505e+01 -1.38695717e+00  3.58078232e+01  3.84159775e+01\n",
      "  -4.68873620e-01  3.76105385e+01  3.74509506e+01  1.22763589e-01\n",
      "   3.85568962e+01  3.60908775e+01  8.41728449e-01  1.92449341e+01\n",
      "   3.27283516e+01  1.34572899e+00  2.11290874e+01  3.08915577e+01\n",
      "   1.37558758e-01  2.39098778e+01  2.92729702e+01 -5.80507457e-01\n",
      "   2.79415226e+01  2.86811485e+01 -1.12663138e+00  3.18540401e+01\n",
      "   2.93168659e+01 -8.31872463e-01  3.50406723e+01  3.08510628e+01\n",
      "  -8.65237042e-02  3.78483582e+01  3.38285637e+01  6.01392925e-01\n",
      "   1.68430882e+01  3.66246033e+01  3.55460811e+00  1.81570625e+01\n",
      "   4.06488991e+01  2.38589883e+00  2.04541664e+01  4.20179291e+01\n",
      "   7.62038648e-01  2.47266998e+01  4.33035049e+01 -8.30664277e-01\n",
      "   2.95821953e+01  4.31054039e+01 -1.59518242e+00  3.38429565e+01\n",
      "   4.20973625e+01 -1.69203532e+00  3.69987488e+01  4.08447990e+01\n",
      "  -1.10545778e+00  3.91281395e+01  3.96362381e+01 -1.02564108e+00\n",
      "   4.08315811e+01  3.74752960e+01 -7.36674607e-01  1.71537228e+01\n",
      "   3.31622620e+01  1.98147154e+00  1.90000801e+01  2.99479694e+01\n",
      "   2.54885137e-01  2.24365406e+01  2.79482403e+01 -9.02561903e-01\n",
      "   2.68415585e+01  2.69377117e+01 -1.52128804e+00  3.16104698e+01\n",
      "   2.73176174e+01 -1.54052079e+00  3.70085144e+01  2.98046665e+01\n",
      "  -9.27733362e-01  3.98493271e+01  3.35500107e+01 -2.60732234e-01\n",
      "   1.37130804e+01  3.79471779e+01  5.01940680e+00  1.44005260e+01\n",
      "   3.29667473e+01  3.13851500e+00  1.60151978e+01  2.84396152e+01\n",
      "   8.93766522e-01  1.97927113e+01  2.56652775e+01 -7.63415575e-01\n",
      "   2.49155655e+01  2.37130604e+01 -2.21245146e+00  3.12036610e+01\n",
      "   2.36570549e+01 -3.18896246e+00  1.03407173e+01  3.91176643e+01\n",
      "   7.32062626e+00  1.46482706e+01  4.34094086e+01  3.05103850e+00\n",
      "   1.78806438e+01  4.60258293e+01  2.88757652e-01  2.30968113e+01\n",
      "   4.74503517e+01 -2.22384000e+00  2.98818340e+01  4.66711197e+01\n",
      "  -2.57899261e+00  3.44735374e+01  4.50570564e+01 -2.61561561e+00\n",
      "   3.79714355e+01  4.33170967e+01 -2.70617986e+00  4.05859947e+01\n",
      "   4.13797455e+01 -2.61364460e+00  4.23932304e+01  3.83782806e+01\n",
      "  -2.73790789e+00  1.14517403e+01  3.27458725e+01  5.67307281e+00\n",
      "   1.37061863e+01  2.76296120e+01  3.32599974e+00  1.76573372e+01\n",
      "   2.36765232e+01  5.00783443e-01  2.34144135e+01  2.14665833e+01\n",
      "  -1.53627646e+00  3.04711399e+01  2.11759911e+01 -3.41609621e+00\n",
      "   3.86165848e+01  2.26969948e+01 -3.92918253e+00  3.97852097e+01\n",
      "   2.68442936e+01 -3.46995425e+00  4.34895172e+01  3.36772423e+01\n",
      "  -3.45067978e+00]] [[36.082455  35.516335   1.0819211 39.111885  35.07734    1.0108418\n",
      "  36.11476   32.643055   0.9832455 32.99399   35.931087   1.1241714\n",
      "  36.218925  38.437225   1.0289102]]\n"
     ]
    }
   ],
   "source": [
    "# The function `get_tensor()` returns a copy of the tensor data.\n",
    "# Use `tensor()` in order to get a pointer to the tensor.\n",
    "output_data  = interpreter.get_tensor(output_details[0]['index'])\n",
    "output_score  = interpreter.get_tensor(output_details[1]['index'])\n",
    "print(output_data, output_score)"
   ]
  },
  {
   "cell_type": "code",
   "execution_count": 40,
   "metadata": {},
   "outputs": [
    {
     "name": "stdout",
     "output_type": "stream",
     "text": [
      "26.9 ms ± 466 µs per loop (mean ± std. dev. of 7 runs, 10 loops each)\n"
     ]
    }
   ],
   "source": [
    "%%timeit\n",
    "interpreter.set_tensor(input_details[0]['index'], input_data)\n",
    "interpreter.invoke()"
   ]
  },
  {
   "cell_type": "code",
   "execution_count": 41,
   "metadata": {},
   "outputs": [],
   "source": [
    "import torch"
   ]
  },
  {
   "cell_type": "code",
   "execution_count": 42,
   "metadata": {},
   "outputs": [
    {
     "name": "stdout",
     "output_type": "stream",
     "text": [
      "PyTorch version: 1.6.0\n",
      "CUDA version: 10.2\n",
      "cuDNN version: 7605\n"
     ]
    }
   ],
   "source": [
    "print(\"PyTorch version:\", torch.__version__)\n",
    "print(\"CUDA version:\", torch.version.cuda)\n",
    "print(\"cuDNN version:\", torch.backends.cudnn.version())"
   ]
  },
  {
   "cell_type": "code",
   "execution_count": 43,
   "metadata": {},
   "outputs": [],
   "source": [
    "# device = torch.device(\"cuda:0\" if torch.cuda.is_available() else \"cpu\")\n",
    "device = torch.device(\"cpu\")\n",
    "from iris import iris\n",
    "\n",
    "net = iris().to(device)\n",
    "net.load_weights(\"iris.pth\")"
   ]
  },
  {
   "cell_type": "code",
   "execution_count": 44,
   "metadata": {},
   "outputs": [],
   "source": [
    "input_t = torch.from_numpy(input_data).permute((0, 3, 1, 2)).to(device)"
   ]
  },
  {
   "cell_type": "code",
   "execution_count": 45,
   "metadata": {},
   "outputs": [],
   "source": [
    "with torch.no_grad():\n",
    "    out = net(input_t)"
   ]
  },
  {
   "cell_type": "code",
   "execution_count": 46,
   "metadata": {},
   "outputs": [
    {
     "name": "stdout",
     "output_type": "stream",
     "text": [
      "[[ 2.05659695e+01  3.45576057e+01  2.47770643e+00  2.23624191e+01\n",
      "   3.55053749e+01  1.65608716e+00  2.41763649e+01  3.60441551e+01\n",
      "   7.41016865e-01  2.65510387e+01  3.66399307e+01 -2.66304286e-03\n",
      "   2.97877560e+01  3.70660744e+01 -6.58978045e-01  3.25947075e+01\n",
      "   3.71597748e+01 -5.75318992e-01  3.50996780e+01  3.67717209e+01\n",
      "  -4.71835723e-03  3.66979942e+01  3.64185753e+01  8.60605776e-01\n",
      "   3.73603096e+01  3.59147835e+01  1.06217480e+00  2.18495712e+01\n",
      "   3.37007790e+01  1.51609731e+00  2.32693634e+01  3.27584381e+01\n",
      "   6.41554594e-01  2.56040268e+01  3.16224060e+01  1.05538376e-01\n",
      "   2.89954605e+01  3.11756401e+01 -2.77333379e-01  3.20531769e+01\n",
      "   3.18565826e+01 -2.56452948e-01  3.48761024e+01  3.33341942e+01\n",
      "   1.94319069e-01  3.66880226e+01  3.50539932e+01  7.09059000e-01\n",
      "   1.91508560e+01  3.49044495e+01  2.69749737e+00  2.05386696e+01\n",
      "   3.72000885e+01  1.54591370e+00  2.28241100e+01  3.85675659e+01\n",
      "   3.79114479e-01  2.62192650e+01  3.93914642e+01 -7.44869769e-01\n",
      "   2.97431450e+01  3.94139862e+01 -1.29206669e+00  3.29847412e+01\n",
      "   3.91748505e+01 -1.38695717e+00  3.58078232e+01  3.84159775e+01\n",
      "  -4.68873620e-01  3.76105385e+01  3.74509506e+01  1.22763589e-01\n",
      "   3.85568962e+01  3.60908775e+01  8.41728449e-01  1.92449341e+01\n",
      "   3.27283516e+01  1.34572899e+00  2.11290874e+01  3.08915577e+01\n",
      "   1.37558758e-01  2.39098778e+01  2.92729702e+01 -5.80507457e-01\n",
      "   2.79415226e+01  2.86811485e+01 -1.12663138e+00  3.18540401e+01\n",
      "   2.93168659e+01 -8.31872463e-01  3.50406723e+01  3.08510628e+01\n",
      "  -8.65237042e-02  3.78483582e+01  3.38285637e+01  6.01392925e-01\n",
      "   1.68430882e+01  3.66246033e+01  3.55460811e+00  1.81570625e+01\n",
      "   4.06488991e+01  2.38589883e+00  2.04541664e+01  4.20179291e+01\n",
      "   7.62038648e-01  2.47266998e+01  4.33035049e+01 -8.30664277e-01\n",
      "   2.95821953e+01  4.31054039e+01 -1.59518242e+00  3.38429565e+01\n",
      "   4.20973625e+01 -1.69203532e+00  3.69987488e+01  4.08447990e+01\n",
      "  -1.10545778e+00  3.91281395e+01  3.96362381e+01 -1.02564108e+00\n",
      "   4.08315811e+01  3.74752960e+01 -7.36674607e-01  1.71537228e+01\n",
      "   3.31622620e+01  1.98147154e+00  1.90000801e+01  2.99479694e+01\n",
      "   2.54885137e-01  2.24365406e+01  2.79482403e+01 -9.02561903e-01\n",
      "   2.68415585e+01  2.69377117e+01 -1.52128804e+00  3.16104698e+01\n",
      "   2.73176174e+01 -1.54052079e+00  3.70085144e+01  2.98046665e+01\n",
      "  -9.27733362e-01  3.98493271e+01  3.35500107e+01 -2.60732234e-01\n",
      "   1.37130804e+01  3.79471779e+01  5.01940680e+00  1.44005260e+01\n",
      "   3.29667473e+01  3.13851500e+00  1.60151978e+01  2.84396152e+01\n",
      "   8.93766522e-01  1.97927113e+01  2.56652775e+01 -7.63415575e-01\n",
      "   2.49155655e+01  2.37130604e+01 -2.21245146e+00  3.12036610e+01\n",
      "   2.36570549e+01 -3.18896246e+00  1.03407173e+01  3.91176643e+01\n",
      "   7.32062626e+00  1.46482706e+01  4.34094086e+01  3.05103850e+00\n",
      "   1.78806438e+01  4.60258293e+01  2.88757652e-01  2.30968113e+01\n",
      "   4.74503517e+01 -2.22384000e+00  2.98818340e+01  4.66711197e+01\n",
      "  -2.57899261e+00  3.44735374e+01  4.50570564e+01 -2.61561561e+00\n",
      "   3.79714355e+01  4.33170967e+01 -2.70617986e+00  4.05859947e+01\n",
      "   4.13797455e+01 -2.61364460e+00  4.23932304e+01  3.83782806e+01\n",
      "  -2.73790789e+00  1.14517403e+01  3.27458725e+01  5.67307281e+00\n",
      "   1.37061863e+01  2.76296120e+01  3.32599974e+00  1.76573372e+01\n",
      "   2.36765232e+01  5.00783443e-01  2.34144135e+01  2.14665833e+01\n",
      "  -1.53627646e+00  3.04711399e+01  2.11759911e+01 -3.41609621e+00\n",
      "   3.86165848e+01  2.26969948e+01 -3.92918253e+00  3.97852097e+01\n",
      "   2.68442936e+01 -3.46995425e+00  4.34895172e+01  3.36772423e+01\n",
      "  -3.45067978e+00]] [[36.082455  35.516335   1.0819211 39.111885  35.07734    1.0108418\n",
      "  36.11476   32.643055   0.9832455 32.99399   35.931087   1.1241714\n",
      "  36.218925  38.437225   1.0289102]]\n",
      "(1, 64, 64, 3)\n"
     ]
    }
   ],
   "source": [
    "print(output_data, output_score)\n",
    "print(input_data.shape)"
   ]
  },
  {
   "cell_type": "code",
   "execution_count": 47,
   "metadata": {},
   "outputs": [
    {
     "data": {
      "text/plain": [
       "[tensor([[ 2.0566e+01,  3.4558e+01,  2.4777e+00,  2.2362e+01,  3.5505e+01,\n",
       "           1.6561e+00,  2.4176e+01,  3.6044e+01,  7.4102e-01,  2.6551e+01,\n",
       "           3.6640e+01, -2.6603e-03,  2.9788e+01,  3.7066e+01, -6.5898e-01,\n",
       "           3.2595e+01,  3.7160e+01, -5.7532e-01,  3.5100e+01,  3.6772e+01,\n",
       "          -4.7228e-03,  3.6698e+01,  3.6419e+01,  8.6060e-01,  3.7360e+01,\n",
       "           3.5915e+01,  1.0622e+00,  2.1850e+01,  3.3701e+01,  1.5161e+00,\n",
       "           2.3269e+01,  3.2758e+01,  6.4156e-01,  2.5604e+01,  3.1622e+01,\n",
       "           1.0554e-01,  2.8995e+01,  3.1176e+01, -2.7733e-01,  3.2053e+01,\n",
       "           3.1857e+01, -2.5645e-01,  3.4876e+01,  3.3334e+01,  1.9432e-01,\n",
       "           3.6688e+01,  3.5054e+01,  7.0905e-01,  1.9151e+01,  3.4904e+01,\n",
       "           2.6975e+00,  2.0539e+01,  3.7200e+01,  1.5459e+00,  2.2824e+01,\n",
       "           3.8568e+01,  3.7912e-01,  2.6219e+01,  3.9391e+01, -7.4487e-01,\n",
       "           2.9743e+01,  3.9414e+01, -1.2921e+00,  3.2985e+01,  3.9175e+01,\n",
       "          -1.3870e+00,  3.5808e+01,  3.8416e+01, -4.6888e-01,  3.7610e+01,\n",
       "           3.7451e+01,  1.2276e-01,  3.8557e+01,  3.6091e+01,  8.4172e-01,\n",
       "           1.9245e+01,  3.2728e+01,  1.3457e+00,  2.1129e+01,  3.0892e+01,\n",
       "           1.3757e-01,  2.3910e+01,  2.9273e+01, -5.8050e-01,  2.7942e+01,\n",
       "           2.8681e+01, -1.1266e+00,  3.1854e+01,  2.9317e+01, -8.3188e-01,\n",
       "           3.5041e+01,  3.0851e+01, -8.6528e-02,  3.7848e+01,  3.3829e+01,\n",
       "           6.0139e-01,  1.6843e+01,  3.6625e+01,  3.5546e+00,  1.8157e+01,\n",
       "           4.0649e+01,  2.3859e+00,  2.0454e+01,  4.2018e+01,  7.6204e-01,\n",
       "           2.4727e+01,  4.3303e+01, -8.3066e-01,  2.9582e+01,  4.3105e+01,\n",
       "          -1.5952e+00,  3.3843e+01,  4.2097e+01, -1.6920e+00,  3.6999e+01,\n",
       "           4.0845e+01, -1.1055e+00,  3.9128e+01,  3.9636e+01, -1.0257e+00,\n",
       "           4.0832e+01,  3.7475e+01, -7.3669e-01,  1.7154e+01,  3.3162e+01,\n",
       "           1.9815e+00,  1.9000e+01,  2.9948e+01,  2.5489e-01,  2.2437e+01,\n",
       "           2.7948e+01, -9.0256e-01,  2.6842e+01,  2.6938e+01, -1.5213e+00,\n",
       "           3.1610e+01,  2.7318e+01, -1.5405e+00,  3.7008e+01,  2.9805e+01,\n",
       "          -9.2774e-01,  3.9849e+01,  3.3550e+01, -2.6074e-01,  1.3713e+01,\n",
       "           3.7947e+01,  5.0194e+00,  1.4401e+01,  3.2967e+01,  3.1385e+00,\n",
       "           1.6015e+01,  2.8440e+01,  8.9378e-01,  1.9793e+01,  2.5665e+01,\n",
       "          -7.6341e-01,  2.4916e+01,  2.3713e+01, -2.2124e+00,  3.1204e+01,\n",
       "           2.3657e+01, -3.1890e+00,  1.0341e+01,  3.9118e+01,  7.3207e+00,\n",
       "           1.4648e+01,  4.3409e+01,  3.0510e+00,  1.7881e+01,  4.6026e+01,\n",
       "           2.8876e-01,  2.3097e+01,  4.7450e+01, -2.2238e+00,  2.9882e+01,\n",
       "           4.6671e+01, -2.5790e+00,  3.4474e+01,  4.5057e+01, -2.6156e+00,\n",
       "           3.7971e+01,  4.3317e+01, -2.7062e+00,  4.0586e+01,  4.1380e+01,\n",
       "          -2.6137e+00,  4.2393e+01,  3.8378e+01, -2.7379e+00,  1.1452e+01,\n",
       "           3.2746e+01,  5.6731e+00,  1.3706e+01,  2.7630e+01,  3.3260e+00,\n",
       "           1.7657e+01,  2.3677e+01,  5.0080e-01,  2.3414e+01,  2.1467e+01,\n",
       "          -1.5363e+00,  3.0471e+01,  2.1176e+01, -3.4161e+00,  3.8617e+01,\n",
       "           2.2697e+01, -3.9292e+00,  3.9785e+01,  2.6844e+01, -3.4700e+00,\n",
       "           4.3489e+01,  3.3677e+01, -3.4507e+00]]),\n",
       " tensor([[36.0825, 35.5163,  1.0819, 39.1119, 35.0773,  1.0108, 36.1148, 32.6431,\n",
       "           0.9832, 32.9940, 35.9311,  1.1242, 36.2189, 38.4372,  1.0289]])]"
      ]
     },
     "execution_count": 47,
     "metadata": {},
     "output_type": "execute_result"
    }
   ],
   "source": [
    "out"
   ]
  },
  {
   "cell_type": "code",
   "execution_count": 59,
   "metadata": {},
   "outputs": [],
   "source": [
    "import cv2\n",
    "img = cv2.imread(\"./pics/eyesample1.jpg\")\n",
    "img = cv2.cvtColor(img, cv2.COLOR_BGR2RGB)\n",
    "\n",
    "img_ori = cv2.resize(img, (64,64))"
   ]
  },
  {
   "cell_type": "code",
   "execution_count": 60,
   "metadata": {},
   "outputs": [
    {
     "data": {
      "text/plain": [
       "(1, 64, 64, 3)"
      ]
     },
     "execution_count": 60,
     "metadata": {},
     "output_type": "execute_result"
    }
   ],
   "source": [
    "img_ori = img_ori[np.newaxis, ...]\n",
    "input_data = img_ori.astype('float32')\n",
    "input_data = input_data / 127.5 - 1.0\n",
    "input_data.shape"
   ]
  },
  {
   "cell_type": "code",
   "execution_count": 61,
   "metadata": {},
   "outputs": [
    {
     "data": {
      "text/plain": [
       "-0.8980392"
      ]
     },
     "execution_count": 61,
     "metadata": {},
     "output_type": "execute_result"
    }
   ],
   "source": [
    "input_data.min()"
   ]
  },
  {
   "cell_type": "code",
   "execution_count": 62,
   "metadata": {},
   "outputs": [
    {
     "name": "stdout",
     "output_type": "stream",
     "text": [
      "[[ 20.188238    39.32341      2.9131548   22.784756    41.498703\n",
      "    1.6876075   25.675268    42.782288     0.7605604   29.524086\n",
      "   43.581192    -0.20995063  34.508377    43.64284     -0.5833891\n",
      "   38.88111     43.08747      0.11394501  42.713333    42.29615\n",
      "    1.5304599   45.20604     41.928288     2.8986976   46.348324\n",
      "   41.52774      3.1595016   21.637617    37.87338      0.880095\n",
      "   23.4786      36.21841     -0.65599585  26.72887     34.38756\n",
      "   -1.9349568   31.707638    33.467472    -2.4141622   36.543476\n",
      "   34.00237     -1.7037416   41.21544     36.35319     -0.11555918\n",
      "   44.689182    39.533966     1.7801479   18.039017    39.099873\n",
      "    3.5978525   20.936457    43.05573      2.327837    24.41163\n",
      "   45.48823      0.9047511   29.666325    46.51555     -0.35795635\n",
      "   34.89699     46.605473    -0.77110213  40.09846     45.99212\n",
      "   -0.11042859  44.173615    44.711693     1.6202744   46.77768\n",
      "   43.398006     2.5437126   48.43826     41.47939      3.2385066\n",
      "   18.04616     34.328472     0.43847644  20.696938    30.895\n",
      "   -2.1649191   24.870947    28.272293    -3.7696595   31.105797\n",
      "   27.28207     -4.577069    37.47103     28.504908    -3.2154558\n",
      "   42.559868    31.537634    -0.61582345  46.926632    36.911415\n",
      "    1.5195711   15.794065    40.090866     5.0992618   18.379631\n",
      "   46.1517       4.710923    21.672724    48.920498     2.9430568\n",
      "   27.956596    50.57815      1.2783817   34.9771      50.578686\n",
      "    0.63600063  41.313618    49.236614     0.82463175  45.976418\n",
      "   47.499077     1.8036137   49.25707     45.644234     1.9116582\n",
      "   51.767185    42.325882     1.409757    15.981691    33.505634\n",
      "    1.0446097   18.019646    28.229862    -2.7737248   22.973448\n",
      "   25.258194    -5.0494285   29.877335    24.142912    -5.987537\n",
      "   37.90691     25.476791    -5.131663    46.43935     29.860994\n",
      "   -2.495523    50.55128     35.87111      0.5713394   12.015044\n",
      "   41.212936     8.008646    12.474447    32.294037     2.1276462\n",
      "   13.965509    24.343388    -2.9024413   19.427238    19.941975\n",
      "   -6.5874534   27.626423    18.359205    -8.960043    38.21018\n",
      "   19.693014    -9.852153     7.4676943   41.963734    11.947201\n",
      "   13.655881    49.956524     6.8673754   18.0391      54.315483\n",
      "    3.5374496   25.46273     56.464912     0.7550045   35.51746\n",
      "   55.597385     0.5006057   42.47551     53.36033      0.61909795\n",
      "   47.55653     50.76621      0.11558374  51.484837    47.791664\n",
      "   -0.26909974  54.272854    43.18021     -1.3658712    8.440529\n",
      "   30.689177     6.1882334   10.319146    21.27921      0.10266542\n",
      "   15.970667    15.469258    -5.5396      25.355322    13.202934\n",
      "   -9.510807    37.313396    14.4823265  -11.770172    50.33758\n",
      "   16.693102   -11.419267    51.74361     24.796066    -8.231391\n",
      "   56.212303    35.21785     -4.6511817 ]] [[32.041454  38.134422   5.2300115 38.14346   37.82476    5.2761984\n",
      "  31.589813  32.13144    5.289917  25.71155   38.411972   5.201924\n",
      "  32.44607   44.074898   5.247337 ]]\n"
     ]
    }
   ],
   "source": [
    "interpreter = tflite.Interpreter(model_path='./iris_landmark.tflite')\n",
    "interpreter.allocate_tensors()\n",
    "\n",
    "# Get input and output tensors.\n",
    "input_details = interpreter.get_input_details()\n",
    "output_details = interpreter.get_output_details()\n",
    "interpreter.set_tensor(input_details[0]['index'], input_data)\n",
    "\n",
    "interpreter.invoke()\n",
    "output_data = interpreter.get_tensor(output_details[0]['index'])\n",
    "output_score = interpreter.get_tensor(output_details[1]['index'])\n",
    "print(output_data, output_score)"
   ]
  },
  {
   "cell_type": "code",
   "execution_count": 63,
   "metadata": {},
   "outputs": [],
   "source": [
    "input_t = torch.from_numpy(input_data).permute((0, 3, 1, 2)).to(device)\n",
    "with torch.no_grad():\n",
    "    out = net(input_t)"
   ]
  },
  {
   "cell_type": "code",
   "execution_count": 64,
   "metadata": {},
   "outputs": [
    {
     "name": "stdout",
     "output_type": "stream",
     "text": [
      "[tensor([[ 20.1882,  39.3234,   2.9132,  22.7848,  41.4987,   1.6876,  25.6753,\n",
      "          42.7823,   0.7606,  29.5241,  43.5812,  -0.2100,  34.5084,  43.6429,\n",
      "          -0.5834,  38.8811,  43.0875,   0.1139,  42.7133,  42.2962,   1.5305,\n",
      "          45.2061,  41.9283,   2.8987,  46.3483,  41.5277,   3.1595,  21.6376,\n",
      "          37.8734,   0.8801,  23.4786,  36.2184,  -0.6560,  26.7289,  34.3875,\n",
      "          -1.9350,  31.7076,  33.4675,  -2.4142,  36.5434,  34.0024,  -1.7037,\n",
      "          41.2154,  36.3532,  -0.1156,  44.6892,  39.5340,   1.7801,  18.0390,\n",
      "          39.0999,   3.5979,  20.9365,  43.0557,   2.3278,  24.4116,  45.4883,\n",
      "           0.9048,  29.6663,  46.5155,  -0.3580,  34.8970,  46.6055,  -0.7711,\n",
      "          40.0985,  45.9921,  -0.1104,  44.1736,  44.7117,   1.6203,  46.7777,\n",
      "          43.3980,   2.5437,  48.4383,  41.4794,   3.2385,  18.0462,  34.3285,\n",
      "           0.4385,  20.6969,  30.8950,  -2.1649,  24.8709,  28.2723,  -3.7697,\n",
      "          31.1058,  27.2821,  -4.5771,  37.4710,  28.5049,  -3.2155,  42.5599,\n",
      "          31.5376,  -0.6158,  46.9266,  36.9114,   1.5196,  15.7941,  40.0909,\n",
      "           5.0993,  18.3796,  46.1517,   4.7109,  21.6727,  48.9205,   2.9431,\n",
      "          27.9566,  50.5782,   1.2784,  34.9771,  50.5787,   0.6360,  41.3136,\n",
      "          49.2366,   0.8246,  45.9764,  47.4991,   1.8036,  49.2571,  45.6442,\n",
      "           1.9117,  51.7672,  42.3259,   1.4098,  15.9817,  33.5056,   1.0446,\n",
      "          18.0197,  28.2299,  -2.7737,  22.9734,  25.2582,  -5.0494,  29.8773,\n",
      "          24.1429,  -5.9875,  37.9069,  25.4768,  -5.1317,  46.4394,  29.8610,\n",
      "          -2.4955,  50.5513,  35.8711,   0.5713,  12.0150,  41.2130,   8.0086,\n",
      "          12.4745,  32.2940,   2.1276,  13.9655,  24.3434,  -2.9024,  19.4272,\n",
      "          19.9420,  -6.5875,  27.6264,  18.3592,  -8.9600,  38.2102,  19.6930,\n",
      "          -9.8521,   7.4677,  41.9637,  11.9472,  13.6559,  49.9565,   6.8674,\n",
      "          18.0391,  54.3155,   3.5375,  25.4627,  56.4649,   0.7550,  35.5175,\n",
      "          55.5974,   0.5006,  42.4755,  53.3603,   0.6191,  47.5565,  50.7663,\n",
      "           0.1156,  51.4848,  47.7917,  -0.2691,  54.2729,  43.1802,  -1.3659,\n",
      "           8.4405,  30.6892,   6.1882,  10.3191,  21.2792,   0.1027,  15.9707,\n",
      "          15.4692,  -5.5396,  25.3553,  13.2029,  -9.5108,  37.3134,  14.4823,\n",
      "         -11.7702,  50.3376,  16.6931, -11.4193,  51.7436,  24.7961,  -8.2314,\n",
      "          56.2123,  35.2179,  -4.6512]]), tensor([[32.0415, 38.1344,  5.2300, 38.1435, 37.8248,  5.2762, 31.5898, 32.1314,\n",
      "          5.2899, 25.7116, 38.4120,  5.2019, 32.4461, 44.0749,  5.2473]])]\n"
     ]
    }
   ],
   "source": [
    "print(out)"
   ]
  },
  {
   "cell_type": "code",
   "execution_count": 65,
   "metadata": {},
   "outputs": [],
   "source": [
    "%matplotlib inline\n",
    "import matplotlib.pyplot as plt"
   ]
  },
  {
   "cell_type": "code",
   "execution_count": 66,
   "metadata": {},
   "outputs": [
    {
     "data": {
      "text/plain": [
       "<matplotlib.image.AxesImage at 0x7f741b645dd0>"
      ]
     },
     "execution_count": 66,
     "metadata": {},
     "output_type": "execute_result"
    },
    {
     "data": {
      "image/png": "[encoded data removed]",
      "text/plain": [
       "<Figure size 432x288 with 1 Axes>"
      ]
     },
     "metadata": {
      "needs_background": "light"
     },
     "output_type": "display_data"
    }
   ],
   "source": [
    "plt.imshow(img_ori.squeeze())"
   ]
  },
  {
   "cell_type": "code",
   "execution_count": 67,
   "metadata": {},
   "outputs": [],
   "source": [
    "hand_kpts = output_data.reshape(-1, 3)\n",
    "iris = output_score.reshape(-1,3)"
   ]
  },
  {
   "cell_type": "code",
   "execution_count": 68,
   "metadata": {},
   "outputs": [
    {
     "data": {
      "text/plain": [
       "<matplotlib.collections.PathCollection at 0x7f741b5c7d50>"
      ]
     },
     "execution_count": 68,
     "metadata": {},
     "output_type": "execute_result"
    },
    {
     "data": {
      "image/png": "[encoded data removed]",
      "text/plain": [
       "<Figure size 432x288 with 1 Axes>"
      ]
     },
     "metadata": {
      "needs_background": "light"
     },
     "output_type": "display_data"
    }
   ],
   "source": [
    "fig, ax = plt.subplots()\n",
    "ax.imshow(img_ori.squeeze())\n",
    "ax.scatter(hand_kpts[:, 0], hand_kpts[:, 1])\n",
    "ax.scatter(iris[:, 0], iris[:, 1])"
   ]
  },
  {
   "cell_type": "code",
   "execution_count": 69,
   "metadata": {},
   "outputs": [
    {
     "data": {
      "text/plain": [
       "<matplotlib.collections.PathCollection at 0x7f741b541f50>"
      ]
     },
     "execution_count": 69,
     "metadata": {},
     "output_type": "execute_result"
    },
    {
     "data": {
      "image/png": "[encoded data removed]",
      "text/plain": [
       "<Figure size 432x288 with 1 Axes>"
      ]
     },
     "metadata": {
      "needs_background": "light"
     },
     "output_type": "display_data"
    }
   ],
   "source": [
    "detections1, detections2 = out\n",
    "detections1 = detections1.reshape(-1,3)\n",
    "detections2 = detections2.reshape(-1,3)\n",
    "fig, ax = plt.subplots()\n",
    "ax.imshow(img_ori.squeeze())\n",
    "ax.scatter(detections1[:, 0], detections1[:, 1])\n",
    "ax.scatter(detections2[:, 0], detections2[:, 1])"
   ]
  },
  {
   "cell_type": "code",
   "execution_count": null,
   "metadata": {},
   "outputs": [],
   "source": []
  }
 ],
 "metadata": {
  "kernelspec": {
   "display_name": "Python 3",
   "language": "python",
   "name": "python3"
  },
  "language_info": {
   "codemirror_mode": {
    "name": "ipython",
    "version": 3
   },
   "file_extension": ".py",
   "mimetype": "text/x-python",
   "name": "python",
   "nbconvert_exporter": "python",
   "pygments_lexer": "ipython3",
   "version": "3.7.9"
  }
 },
 "nbformat": 4,
 "nbformat_minor": 4
}
